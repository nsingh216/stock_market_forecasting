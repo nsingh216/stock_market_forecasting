{
  "nbformat": 4,
  "nbformat_minor": 0,
  "metadata": {
    "colab": {
      "name": "Time Series.ipynb",
      "version": "0.3.2",
      "provenance": []
    },
    "kernelspec": {
      "name": "python3",
      "display_name": "Python 3"
    }
  },
  "cells": [
    {
      "cell_type": "code",
      "metadata": {
        "id": "yt70kn09eiGF",
        "colab_type": "code",
        "outputId": "ea65050d-77be-412e-c399-7c21b1860a2c",
        "colab": {
          "base_uri": "https://localhost:8080/",
          "height": 367
        }
      },
      "source": [
        "!pip3 install pmdarima\n",
        "import pandas as pd\n",
        "import numpy as np\n",
        "from datetime import datetime\n",
        "from statsmodels.tsa.seasonal import seasonal_decompose\n",
        "from statsmodels.tsa.stattools import adfuller\n",
        "from statsmodels.graphics import tsaplots\n",
        "import pmdarima as pm\n",
        "import matplotlib.pyplot as plt\n",
        "from statsmodels.tsa.arima_model import ARIMA\n",
        "from sklearn.metrics import mean_squared_error\n",
        "import warnings\n",
        "import matplotlib as mpl\n",
        "\n",
        "mpl.rcParams[\"axes.formatter.useoffset\"] = False\n",
        "\n",
        "warnings.filterwarnings(action='once')\n",
        "\n",
        "\n",
        "\n"
      ],
      "execution_count": 2,
      "outputs": [
        {
          "output_type": "stream",
          "text": [
            "Collecting pmdarima\n",
            "\u001b[?25l  Downloading https://files.pythonhosted.org/packages/1e/14/7e8c633b3a310a05279f1a74466b8ace90d4fd08e69a8c0d1a323d1028c3/pmdarima-1.2.0-cp36-cp36m-manylinux1_x86_64.whl (913kB)\n",
            "\u001b[K     |████████████████████████████████| 921kB 5.1MB/s \n",
            "\u001b[?25hRequirement already satisfied: Cython>=0.29 in /usr/local/lib/python3.6/dist-packages (from pmdarima) (0.29.7)\n",
            "Requirement already satisfied: statsmodels>=0.9.0 in /usr/local/lib/python3.6/dist-packages (from pmdarima) (0.9.0)\n",
            "Requirement already satisfied: pandas>=0.19 in /usr/local/lib/python3.6/dist-packages (from pmdarima) (0.24.2)\n",
            "Requirement already satisfied: scikit-learn>=0.19 in /usr/local/lib/python3.6/dist-packages (from pmdarima) (0.20.3)\n",
            "Requirement already satisfied: scipy>=1.2 in /usr/local/lib/python3.6/dist-packages (from pmdarima) (1.2.1)\n",
            "Requirement already satisfied: numpy>=1.15 in /usr/local/lib/python3.6/dist-packages (from pmdarima) (1.16.3)\n",
            "Requirement already satisfied: patsy in /usr/local/lib/python3.6/dist-packages (from statsmodels>=0.9.0->pmdarima) (0.5.1)\n",
            "Requirement already satisfied: python-dateutil>=2.5.0 in /usr/local/lib/python3.6/dist-packages (from pandas>=0.19->pmdarima) (2.5.3)\n",
            "Requirement already satisfied: pytz>=2011k in /usr/local/lib/python3.6/dist-packages (from pandas>=0.19->pmdarima) (2018.9)\n",
            "Requirement already satisfied: six in /usr/local/lib/python3.6/dist-packages (from patsy->statsmodels>=0.9.0->pmdarima) (1.12.0)\n",
            "Installing collected packages: pmdarima\n",
            "Successfully installed pmdarima-1.2.0\n"
          ],
          "name": "stdout"
        }
      ]
    },
    {
      "cell_type": "code",
      "metadata": {
        "id": "WXIhBM5EevC6",
        "colab_type": "code",
        "colab": {}
      },
      "source": [
        "# Load the Drive helper and mount\n",
        "from google.colab import drive\n",
        "\n",
        "# This will prompt for authorization.\n",
        "drive.mount('/content/drive')\n",
        "\n"
      ],
      "execution_count": 0,
      "outputs": []
    },
    {
      "cell_type": "code",
      "metadata": {
        "id": "DJlow_y8emr8",
        "colab_type": "code",
        "outputId": "b22c8ef1-06d4-496b-a499-8e3d1409cb02",
        "colab": {
          "base_uri": "https://localhost:8080/",
          "height": 1343
        }
      },
      "source": [
        "data_path = \"/content/drive/My Drive/Colab Notebooks/\"\n",
        "\n",
        "df = pd.read_csv(data_path + \"cooked_v3.csv\")\n",
        "print(df.head())\n",
        "print(df.CalcDateTime.min())\n",
        "print(df.CalcDateTime.max())\n",
        "\n",
        "# tickers and their traded volumes\n",
        "volume_series = df.groupby('Mnemonic')['TradedVolume'].sum()\n",
        "volume_series.sort_values(ascending=False, inplace=True)\n",
        "print(volume_series)\n",
        "\n",
        "df.head()\n",
        "df.replace([np.inf, -np.inf], np.nan)\n",
        "df.dropna(inplace=True)\n"
      ],
      "execution_count": 4,
      "outputs": [
        {
          "output_type": "stream",
          "text": [
            "          CalcDateTime Mnemonic  MinPrice  MaxPrice  StartPrice  EndPrice  \\\n",
            "0  2017-07-03 08:00:00      SNH     4.450     4.456       4.456     4.450   \n",
            "1  2017-07-03 08:01:00      SNH     4.450     4.456       4.456     4.450   \n",
            "2  2017-07-03 08:02:00      SNH     4.450     4.456       4.456     4.450   \n",
            "3  2017-07-03 08:03:00      SNH     4.457     4.457       4.457     4.457   \n",
            "4  2017-07-03 08:04:00      SNH     4.457     4.457       4.457     4.457   \n",
            "\n",
            "   HasTrade  TradedVolume  NumberOfTrades  \n",
            "0       1.0        5505.0             9.0  \n",
            "1       0.0           0.0             0.0  \n",
            "2       0.0           0.0             0.0  \n",
            "3       1.0         899.0             2.0  \n",
            "4       0.0           0.0             0.0  \n",
            "2017-07-03 08:00:00\n",
            "2018-05-15 20:00:00\n",
            "Mnemonic\n",
            "SNH     4.182139e+09\n",
            "DBK     2.346360e+09\n",
            "EOAN    1.883320e+09\n",
            "DTE     1.695683e+09\n",
            "CBK     1.575910e+09\n",
            "RWE     8.374443e+08\n",
            "IFX     7.630757e+08\n",
            "SVAB    6.026515e+08\n",
            "LHA     5.934044e+08\n",
            "DAI     4.894308e+08\n",
            "O2D     4.206979e+08\n",
            "TKA     4.068489e+08\n",
            "DPW     3.875652e+08\n",
            "SIE     3.303059e+08\n",
            "HDD     3.297946e+08\n",
            "BAYN    3.209365e+08\n",
            "AIXA    3.154691e+08\n",
            "SAP     3.131401e+08\n",
            "BAS     3.083699e+08\n",
            "EVT     2.903719e+08\n",
            "AT1     2.895379e+08\n",
            "PSM     2.597244e+08\n",
            "BMW     2.399428e+08\n",
            "VOW3    2.070301e+08\n",
            "FRE     1.979261e+08\n",
            "SDF     1.837931e+08\n",
            "ALV     1.775633e+08\n",
            "CEC     1.772854e+08\n",
            "GAZ     1.766811e+08\n",
            "VNA     1.746951e+08\n",
            "            ...     \n",
            "PBB     6.026272e+07\n",
            "OSR     5.980897e+07\n",
            "TINA    5.902034e+07\n",
            "BEI     5.335731e+07\n",
            "TEG     5.319391e+07\n",
            "AOX     5.261177e+07\n",
            "UTDI    5.030524e+07\n",
            "ARL     4.882091e+07\n",
            "MDG1    4.765095e+07\n",
            "SANT    4.750166e+07\n",
            "LXS     4.709328e+07\n",
            "KGX     4.645212e+07\n",
            "TTI     4.526758e+07\n",
            "LINU    4.353381e+07\n",
            "GYC     4.313140e+07\n",
            "ARO     4.306912e+07\n",
            "SOW     4.116562e+07\n",
            "ANO     4.077790e+07\n",
            "SZG     3.979799e+07\n",
            "BOSS    3.975063e+07\n",
            "BNR     3.966788e+07\n",
            "LLD     3.789612e+07\n",
            "WAF     3.701539e+07\n",
            "DRI     3.612415e+07\n",
            "NDA     3.558823e+07\n",
            "SY1     3.533197e+07\n",
            "LIN     3.523801e+07\n",
            "ZIL2    3.514334e+07\n",
            "CAP     3.474148e+07\n",
            "3W9K    3.318574e+07\n",
            "Name: TradedVolume, Length: 100, dtype: float64\n"
          ],
          "name": "stdout"
        }
      ]
    },
    {
      "cell_type": "code",
      "metadata": {
        "id": "KA4XxWRGegL0",
        "colab_type": "code",
        "outputId": "47e12bcf-ecb2-44c4-8d53-b27a57955835",
        "colab": {
          "base_uri": "https://localhost:8080/",
          "height": 173
        }
      },
      "source": [
        "tickers = ['DBK']\n",
        "for ticker in tickers:\n",
        "    start_time = datetime.now()\n",
        "    ticker_data = df[df['Mnemonic'] == ticker]\n",
        "    ticker_data.reset_index(inplace=True)\n",
        "\n",
        "    X = pd.to_numeric(pd.to_datetime(ticker_data['CalcDateTime']))\n",
        "    X = X.values.reshape(-1, 1)\n",
        "\n",
        "    Y = ticker_data['StartPrice']\n",
        "    print(\"Ticker \" + ticker + \" has \" + str(len(X)) + \" records.\")\n",
        "\n",
        "\n",
        "    ticker_data['CalcDateTime'] = pd.to_datetime(ticker_data['CalcDateTime'])\n",
        "    ticker_data.set_index(ticker_data['CalcDateTime'], inplace=True)\n",
        "    \n",
        "    # Daily Rolling Averages\n",
        "    daily_avg = ticker_data.StartPrice.rolling(window =60*24).mean()\n",
        "\n",
        "end_time = datetime.now()\n",
        "c = end_time - start_time\n",
        "print(\"Runtime:\" + str(c.total_seconds()))\n"
      ],
      "execution_count": 6,
      "outputs": [
        {
          "output_type": "stream",
          "text": [
            "Ticker DBK has 156457 records.\n",
            "Runtime:0.89297\n"
          ],
          "name": "stdout"
        },
        {
          "output_type": "stream",
          "text": [
            "/usr/local/lib/python3.6/dist-packages/ipykernel_launcher.py:14: SettingWithCopyWarning: \n",
            "A value is trying to be set on a copy of a slice from a DataFrame.\n",
            "Try using .loc[row_indexer,col_indexer] = value instead\n",
            "\n",
            "See the caveats in the documentation: http://pandas.pydata.org/pandas-docs/stable/indexing.html#indexing-view-versus-copy\n",
            "  \n"
          ],
          "name": "stderr"
        }
      ]
    }
  ]
}