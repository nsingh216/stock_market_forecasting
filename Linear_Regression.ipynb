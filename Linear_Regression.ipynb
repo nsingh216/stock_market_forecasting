{
  "nbformat": 4,
  "nbformat_minor": 0,
  "metadata": {
    "colab": {
      "name": "Linear Regression.ipynb",
      "version": "0.3.2",
      "provenance": []
    },
    "kernelspec": {
      "name": "python3",
      "display_name": "Python 3"
    }
  },
  "cells": [
    {
      "cell_type": "code",
      "metadata": {
        "id": "Grpotmq2VFn0",
        "colab_type": "code",
        "colab": {}
      },
      "source": [
        "# Load the Drive helper and mount\n",
        "from google.colab import drive\n",
        "\n",
        "# This will prompt for authorization.\n",
        "drive.mount('/content/drive')\n",
        "\n",
        "data_path = \"/content/drive/My Drive/Colab Notebooks/\"\n"
      ],
      "execution_count": 0,
      "outputs": []
    },
    {
      "cell_type": "code",
      "metadata": {
        "id": "O3rxqrf8U8JK",
        "colab_type": "code",
        "outputId": "e8c2f994-c7d5-468a-a8a4-bd600119a547",
        "colab": {
          "base_uri": "https://localhost:8080/",
          "height": 18394
        }
      },
      "source": [
        "import pandas as pd\n",
        "import numpy as np\n",
        "from sklearn.linear_model import LinearRegression\n",
        "from sklearn.model_selection import train_test_split, TimeSeriesSplit\n",
        "from sklearn.metrics import mean_squared_error, r2_score\n",
        "import matplotlib.pyplot as plt\n",
        "from statsmodels.tsa.arima_model import ARIMA\n",
        "from datetime import datetime\n",
        "from yellowbrick.regressor import ResidualsPlot\n",
        "from pandas.plotting import autocorrelation_plot\n",
        "from statsmodels.graphics.tsaplots import plot_acf, plot_pacf\n",
        "\n",
        "\n",
        "def plot_actuals(x, y, ticker):\n",
        "    figure = plt.figure()\n",
        "    figure.title = \"Start prices of \" + ticker\n",
        "    plt.plot(x, y)\n",
        "    plt.xlabel(\"Time\")\n",
        "    plt.ylabel(\"Starting Price\")\n",
        "    plt.show()\n",
        "    # plt.savefig(ticker + \".png\")\n",
        "\n",
        "\n",
        "def run_linear_regression(X_train, X_test, y_train, y_test):\n",
        "    regressor = LinearRegression()\n",
        "    regressor.fit(X_train, y_train)\n",
        "    predictions = regressor.predict(X_test)\n",
        "\n",
        "    r2 = r2_score(y_test, predictions)\n",
        "    print(\"R2 for \" + ticker + \": \" + str(r2))\n",
        "\n",
        "    mse = mean_squared_error(y_test, predictions)\n",
        "    print(\"MSE for \" + ticker + \": \" + str(mse))\n",
        "    \n",
        "#     plt.scatter(X_test, y_test, color='black')\n",
        "#     plt.plot(X_test, predictions, color='blue', linewidth=3)\n",
        "    \n",
        "#     plt.xlabel(\"Time\")\n",
        "#     plt.ylabel(\"Starting Price\")\n",
        "    \n",
        "#     plt.show()\n",
        "\n",
        "    return mse\n",
        "\n",
        "\n",
        "df = pd.read_csv(data_path + \"cooked_v3.csv\")\n",
        "print(df.head())\n",
        "print(df.CalcDateTime.min())\n",
        "print(df.CalcDateTime.max())\n",
        "\n",
        "# tickers and their traded volumes\n",
        "total_volume = df['TradedVolume'].sum()\n",
        "volume_series = df.groupby('Mnemonic')['TradedVolume'].sum()\n",
        "volume_series.sort_values(ascending=False, inplace=True)\n",
        "print(volume_series)\n",
        "\n",
        "df.head()\n",
        "df.replace([np.inf, -np.inf], np.nan)\n",
        "df.dropna(inplace=True)\n",
        "\n",
        "start_time = datetime.now()\n",
        "test_size = 0.2\n",
        "n_splits = int((1//test_size)-1)\n",
        "\n",
        "total_weighted_mse = 0\n",
        "unweighted_mse = 0\n",
        "for ticker in volume_series.index:\n",
        "    ticker_data = df[df['Mnemonic'] == ticker]\n",
        "    vol = ticker_data['TradedVolume'].sum()\n",
        "    ticker_data.reset_index(inplace=True)\n",
        "\n",
        "    X = pd.to_numeric(pd.to_datetime(ticker_data['CalcDateTime']))\n",
        "    X = X.values.reshape(-1, 1)\n",
        "\n",
        "    Y = ticker_data['StartPrice']\n",
        "    print(\"Ticker \" + ticker + \" has \" + str(len(X)) + \" records.\")\n",
        "\n",
        "    # plot hourly since min-by-min is really slow\n",
        "    ticker_data['CalcDateTime'] = pd.to_datetime(ticker_data['CalcDateTime'])\n",
        "\n",
        "    # using 25:75 break\n",
        "    tss = TimeSeriesSplit(n_splits=n_splits)\n",
        "    X_train = X_test = y_train = y_test = pd.DataFrame()\n",
        "    for train_index, test_index in tss.split(X):\n",
        "\n",
        "        X_train, X_test = X[train_index], X[test_index]\n",
        "        y_train, y_test = Y[train_index], Y[test_index]\n",
        "\n",
        "    \n",
        "#     # predict last 15 values since arima on 25% of the data is taking too long\n",
        "#     train_index = np.arange(0,len(X) - 15)\n",
        "#     test_index = np.arange(len(X) - 15, len(X))\n",
        "#     X_train, X_test = X[train_index], X[test_index]\n",
        "#     y_train, y_test = Y[train_index], Y[test_index]\n",
        "\n",
        "\n",
        "    # ############## LINEAR REGRESSION ###################\n",
        "    mse = run_linear_regression(X_train, X_test, y_train, y_test)\n",
        "    weighted_mse = mse*(vol/total_volume)\n",
        "    print(weighted_mse)\n",
        "    total_weighted_mse = total_weighted_mse + weighted_mse\n",
        "\n",
        "    unweighted_mse = unweighted_mse + mse\n",
        "    print(unweighted_mse)\n",
        "\n",
        "\n",
        "end_time = datetime.now()\n",
        "c = end_time - start_time\n",
        "print(\"Ran LR in:\" + str(c.total_seconds()))\n",
        "\n",
        "print(\"Weighted MSE: \" + str(total_weighted_mse))\n",
        "print(\"Average MSE: \" + str(unweighted_mse/100)) # sum/# of tickers"
      ],
      "execution_count": 6,
      "outputs": [
        {
          "output_type": "stream",
          "text": [
            "          CalcDateTime Mnemonic  MinPrice  MaxPrice  StartPrice  EndPrice  \\\n",
            "0  2017-07-03 08:00:00      SNH     4.450     4.456       4.456     4.450   \n",
            "1  2017-07-03 08:01:00      SNH     4.450     4.456       4.456     4.450   \n",
            "2  2017-07-03 08:02:00      SNH     4.450     4.456       4.456     4.450   \n",
            "3  2017-07-03 08:03:00      SNH     4.457     4.457       4.457     4.457   \n",
            "4  2017-07-03 08:04:00      SNH     4.457     4.457       4.457     4.457   \n",
            "\n",
            "   HasTrade  TradedVolume  NumberOfTrades  \n",
            "0       1.0        5505.0             9.0  \n",
            "1       0.0           0.0             0.0  \n",
            "2       0.0           0.0             0.0  \n",
            "3       1.0         899.0             2.0  \n",
            "4       0.0           0.0             0.0  \n",
            "2017-07-03 08:00:00\n",
            "2018-05-15 20:00:00\n",
            "Mnemonic\n",
            "SNH     4.182139e+09\n",
            "DBK     2.346360e+09\n",
            "EOAN    1.883320e+09\n",
            "DTE     1.695683e+09\n",
            "CBK     1.575910e+09\n",
            "RWE     8.374443e+08\n",
            "IFX     7.630757e+08\n",
            "SVAB    6.026515e+08\n",
            "LHA     5.934044e+08\n",
            "DAI     4.894308e+08\n",
            "O2D     4.206979e+08\n",
            "TKA     4.068489e+08\n",
            "DPW     3.875652e+08\n",
            "SIE     3.303059e+08\n",
            "HDD     3.297946e+08\n",
            "BAYN    3.209365e+08\n",
            "AIXA    3.154691e+08\n",
            "SAP     3.131401e+08\n",
            "BAS     3.083699e+08\n",
            "EVT     2.903719e+08\n",
            "AT1     2.895379e+08\n",
            "PSM     2.597244e+08\n",
            "BMW     2.399428e+08\n",
            "VOW3    2.070301e+08\n",
            "FRE     1.979261e+08\n",
            "SDF     1.837931e+08\n",
            "ALV     1.775633e+08\n",
            "CEC     1.772854e+08\n",
            "GAZ     1.766811e+08\n",
            "VNA     1.746951e+08\n",
            "            ...     \n",
            "PBB     6.026272e+07\n",
            "OSR     5.980897e+07\n",
            "TINA    5.902034e+07\n",
            "BEI     5.335731e+07\n",
            "TEG     5.319391e+07\n",
            "AOX     5.261177e+07\n",
            "UTDI    5.030524e+07\n",
            "ARL     4.882091e+07\n",
            "MDG1    4.765095e+07\n",
            "SANT    4.750166e+07\n",
            "LXS     4.709328e+07\n",
            "KGX     4.645212e+07\n",
            "TTI     4.526758e+07\n",
            "LINU    4.353381e+07\n",
            "GYC     4.313140e+07\n",
            "ARO     4.306912e+07\n",
            "SOW     4.116562e+07\n",
            "ANO     4.077790e+07\n",
            "SZG     3.979799e+07\n",
            "BOSS    3.975063e+07\n",
            "BNR     3.966788e+07\n",
            "LLD     3.789612e+07\n",
            "WAF     3.701539e+07\n",
            "DRI     3.612415e+07\n",
            "NDA     3.558823e+07\n",
            "SY1     3.533197e+07\n",
            "LIN     3.523801e+07\n",
            "ZIL2    3.514334e+07\n",
            "CAP     3.474148e+07\n",
            "3W9K    3.318574e+07\n",
            "Name: TradedVolume, Length: 100, dtype: float64\n",
            "Ticker SNH has 156457 records.\n",
            "R2 for SNH: -168.9191643813718\n",
            "MSE for SNH: 1.09756280112097\n",
            "0.18017754158779845\n",
            "1.09756280112097\n"
          ],
          "name": "stdout"
        },
        {
          "output_type": "stream",
          "text": [
            "/usr/local/lib/python3.6/dist-packages/ipykernel_launcher.py:79: SettingWithCopyWarning: \n",
            "A value is trying to be set on a copy of a slice from a DataFrame.\n",
            "Try using .loc[row_indexer,col_indexer] = value instead\n",
            "\n",
            "See the caveats in the documentation: http://pandas.pydata.org/pandas-docs/stable/indexing.html#indexing-view-versus-copy\n"
          ],
          "name": "stderr"
        },
        {
          "output_type": "stream",
          "text": [
            "Ticker DBK has 156457 records.\n",
            "R2 for DBK: -14.443754335680463\n",
            "MSE for DBK: 7.831955818887511\n",
            "0.7213360642463458\n",
            "8.929518620008482\n"
          ],
          "name": "stdout"
        },
        {
          "output_type": "stream",
          "text": [
            "/usr/local/lib/python3.6/dist-packages/ipykernel_launcher.py:79: SettingWithCopyWarning: \n",
            "A value is trying to be set on a copy of a slice from a DataFrame.\n",
            "Try using .loc[row_indexer,col_indexer] = value instead\n",
            "\n",
            "See the caveats in the documentation: http://pandas.pydata.org/pandas-docs/stable/indexing.html#indexing-view-versus-copy\n"
          ],
          "name": "stderr"
        },
        {
          "output_type": "stream",
          "text": [
            "Ticker EOAN has 156457 records.\n",
            "R2 for EOAN: -0.33078684781630363\n",
            "MSE for EOAN: 0.14418505592413036\n",
            "0.010659018462042083\n",
            "9.073703675932611\n"
          ],
          "name": "stdout"
        },
        {
          "output_type": "stream",
          "text": [
            "/usr/local/lib/python3.6/dist-packages/ipykernel_launcher.py:79: SettingWithCopyWarning: \n",
            "A value is trying to be set on a copy of a slice from a DataFrame.\n",
            "Try using .loc[row_indexer,col_indexer] = value instead\n",
            "\n",
            "See the caveats in the documentation: http://pandas.pydata.org/pandas-docs/stable/indexing.html#indexing-view-versus-copy\n"
          ],
          "name": "stderr"
        },
        {
          "output_type": "stream",
          "text": [
            "Ticker DTE has 156457 records.\n",
            "R2 for DTE: -0.784027518182858\n",
            "MSE for DTE: 0.5332640933277012\n",
            "0.035494389985143364\n",
            "9.606967769260313\n"
          ],
          "name": "stdout"
        },
        {
          "output_type": "stream",
          "text": [
            "/usr/local/lib/python3.6/dist-packages/ipykernel_launcher.py:79: SettingWithCopyWarning: \n",
            "A value is trying to be set on a copy of a slice from a DataFrame.\n",
            "Try using .loc[row_indexer,col_indexer] = value instead\n",
            "\n",
            "See the caveats in the documentation: http://pandas.pydata.org/pandas-docs/stable/indexing.html#indexing-view-versus-copy\n"
          ],
          "name": "stderr"
        },
        {
          "output_type": "stream",
          "text": [
            "Ticker CBK has 156457 records.\n",
            "R2 for CBK: -11.600312520649608\n",
            "MSE for CBK: 7.001929106225663\n",
            "0.4331336982972635\n",
            "16.608896875485975\n"
          ],
          "name": "stdout"
        },
        {
          "output_type": "stream",
          "text": [
            "/usr/local/lib/python3.6/dist-packages/ipykernel_launcher.py:79: SettingWithCopyWarning: \n",
            "A value is trying to be set on a copy of a slice from a DataFrame.\n",
            "Try using .loc[row_indexer,col_indexer] = value instead\n",
            "\n",
            "See the caveats in the documentation: http://pandas.pydata.org/pandas-docs/stable/indexing.html#indexing-view-versus-copy\n"
          ],
          "name": "stderr"
        },
        {
          "output_type": "stream",
          "text": [
            "Ticker RWE has 156457 records.\n",
            "R2 for RWE: -3.041310945805237\n",
            "MSE for RWE: 8.547297046858073\n",
            "0.28096843825943074\n",
            "25.15619392234405\n"
          ],
          "name": "stdout"
        },
        {
          "output_type": "stream",
          "text": [
            "/usr/local/lib/python3.6/dist-packages/ipykernel_launcher.py:79: SettingWithCopyWarning: \n",
            "A value is trying to be set on a copy of a slice from a DataFrame.\n",
            "Try using .loc[row_indexer,col_indexer] = value instead\n",
            "\n",
            "See the caveats in the documentation: http://pandas.pydata.org/pandas-docs/stable/indexing.html#indexing-view-versus-copy\n"
          ],
          "name": "stderr"
        },
        {
          "output_type": "stream",
          "text": [
            "Ticker IFX has 156457 records.\n",
            "R2 for IFX: -13.576147808957922\n",
            "MSE for IFX: 12.290237489456933\n",
            "0.3681295573704925\n",
            "37.44643141180098\n"
          ],
          "name": "stdout"
        },
        {
          "output_type": "stream",
          "text": [
            "/usr/local/lib/python3.6/dist-packages/ipykernel_launcher.py:79: SettingWithCopyWarning: \n",
            "A value is trying to be set on a copy of a slice from a DataFrame.\n",
            "Try using .loc[row_indexer,col_indexer] = value instead\n",
            "\n",
            "See the caveats in the documentation: http://pandas.pydata.org/pandas-docs/stable/indexing.html#indexing-view-versus-copy\n"
          ],
          "name": "stderr"
        },
        {
          "output_type": "stream",
          "text": [
            "Ticker SVAB has 156446 records.\n",
            "R2 for SVAB: -10.513382120449284\n",
            "MSE for SVAB: 0.0008369664785641768\n",
            "1.979917557749964e-05\n"
          ],
          "name": "stdout"
        },
        {
          "output_type": "stream",
          "text": [
            "/usr/local/lib/python3.6/dist-packages/ipykernel_launcher.py:79: SettingWithCopyWarning: \n",
            "A value is trying to be set on a copy of a slice from a DataFrame.\n",
            "Try using .loc[row_indexer,col_indexer] = value instead\n",
            "\n",
            "See the caveats in the documentation: http://pandas.pydata.org/pandas-docs/stable/indexing.html#indexing-view-versus-copy\n"
          ],
          "name": "stderr"
        },
        {
          "output_type": "stream",
          "text": [
            "37.447268378279546\n",
            "Ticker LHA has 156457 records.\n",
            "R2 for LHA: -60.04489033089043\n",
            "MSE for LHA: 57.85854984001245\n",
            "1.3476934924460977\n",
            "95.30581821829199\n"
          ],
          "name": "stdout"
        },
        {
          "output_type": "stream",
          "text": [
            "/usr/local/lib/python3.6/dist-packages/ipykernel_launcher.py:79: SettingWithCopyWarning: \n",
            "A value is trying to be set on a copy of a slice from a DataFrame.\n",
            "Try using .loc[row_indexer,col_indexer] = value instead\n",
            "\n",
            "See the caveats in the documentation: http://pandas.pydata.org/pandas-docs/stable/indexing.html#indexing-view-versus-copy\n"
          ],
          "name": "stderr"
        },
        {
          "output_type": "stream",
          "text": [
            "Ticker DAI has 156457 records.\n",
            "R2 for DAI: -43.79572684687195\n",
            "MSE for DAI: 106.09971057154064\n",
            "2.03834804957818\n",
            "201.40552878983263\n"
          ],
          "name": "stdout"
        },
        {
          "output_type": "stream",
          "text": [
            "/usr/local/lib/python3.6/dist-packages/ipykernel_launcher.py:79: SettingWithCopyWarning: \n",
            "A value is trying to be set on a copy of a slice from a DataFrame.\n",
            "Try using .loc[row_indexer,col_indexer] = value instead\n",
            "\n",
            "See the caveats in the documentation: http://pandas.pydata.org/pandas-docs/stable/indexing.html#indexing-view-versus-copy\n"
          ],
          "name": "stderr"
        },
        {
          "output_type": "stream",
          "text": [
            "Ticker O2D has 156455 records.\n",
            "R2 for O2D: -0.9301772292679353\n",
            "MSE for O2D: 0.03025273084226328\n"
          ],
          "name": "stdout"
        },
        {
          "output_type": "stream",
          "text": [
            "/usr/local/lib/python3.6/dist-packages/ipykernel_launcher.py:79: SettingWithCopyWarning: \n",
            "A value is trying to be set on a copy of a slice from a DataFrame.\n",
            "Try using .loc[row_indexer,col_indexer] = value instead\n",
            "\n",
            "See the caveats in the documentation: http://pandas.pydata.org/pandas-docs/stable/indexing.html#indexing-view-versus-copy\n"
          ],
          "name": "stderr"
        },
        {
          "output_type": "stream",
          "text": [
            "0.0004995831354091735\n",
            "201.43578152067488\n",
            "Ticker TKA has 156457 records.\n",
            "R2 for TKA: -3.3788293784019334\n",
            "MSE for TKA: 1.4159113090010353\n",
            "0.022612158461136813\n",
            "202.85169282967593\n"
          ],
          "name": "stdout"
        },
        {
          "output_type": "stream",
          "text": [
            "/usr/local/lib/python3.6/dist-packages/ipykernel_launcher.py:79: SettingWithCopyWarning: \n",
            "A value is trying to be set on a copy of a slice from a DataFrame.\n",
            "Try using .loc[row_indexer,col_indexer] = value instead\n",
            "\n",
            "See the caveats in the documentation: http://pandas.pydata.org/pandas-docs/stable/indexing.html#indexing-view-versus-copy\n"
          ],
          "name": "stderr"
        },
        {
          "output_type": "stream",
          "text": [
            "Ticker DPW has 156457 records.\n",
            "R2 for DPW: -30.179439893739197\n",
            "MSE for DPW: 33.945803948569974"
          ],
          "name": "stdout"
        },
        {
          "output_type": "stream",
          "text": [
            "/usr/local/lib/python3.6/dist-packages/ipykernel_launcher.py:79: SettingWithCopyWarning: \n",
            "A value is trying to be set on a copy of a slice from a DataFrame.\n",
            "Try using .loc[row_indexer,col_indexer] = value instead\n",
            "\n",
            "See the caveats in the documentation: http://pandas.pydata.org/pandas-docs/stable/indexing.html#indexing-view-versus-copy\n"
          ],
          "name": "stderr"
        },
        {
          "output_type": "stream",
          "text": [
            "\n",
            "0.5164207016948891\n",
            "236.7974967782459\n",
            "Ticker SIE has 156457 records.\n",
            "R2 for SIE: -8.00269712380144\n",
            "MSE for SIE: 124.29468515003055\n",
            "1.6115423471189194\n",
            "361.09218192827643\n"
          ],
          "name": "stdout"
        },
        {
          "output_type": "stream",
          "text": [
            "/usr/local/lib/python3.6/dist-packages/ipykernel_launcher.py:79: SettingWithCopyWarning: \n",
            "A value is trying to be set on a copy of a slice from a DataFrame.\n",
            "Try using .loc[row_indexer,col_indexer] = value instead\n",
            "\n",
            "See the caveats in the documentation: http://pandas.pydata.org/pandas-docs/stable/indexing.html#indexing-view-versus-copy\n"
          ],
          "name": "stderr"
        },
        {
          "output_type": "stream",
          "text": [
            "Ticker HDD has 156457 records.\n",
            "R2 for HDD: -2.5492975238277027\n",
            "MSE for HDD: 0.041223947633398164\n",
            "0.0005336615357908044\n",
            "361.13340587590983"
          ],
          "name": "stdout"
        },
        {
          "output_type": "stream",
          "text": [
            "/usr/local/lib/python3.6/dist-packages/ipykernel_launcher.py:79: SettingWithCopyWarning: \n",
            "A value is trying to be set on a copy of a slice from a DataFrame.\n",
            "Try using .loc[row_indexer,col_indexer] = value instead\n",
            "\n",
            "See the caveats in the documentation: http://pandas.pydata.org/pandas-docs/stable/indexing.html#indexing-view-versus-copy\n"
          ],
          "name": "stderr"
        },
        {
          "output_type": "stream",
          "text": [
            "\n",
            "Ticker BAYN has 156457 records.\n",
            "R2 for BAYN: -2.556840259859382\n",
            "MSE for BAYN: 43.48997238746517\n",
            "0.5478744477250819\n",
            "404.623378263375"
          ],
          "name": "stdout"
        },
        {
          "output_type": "stream",
          "text": [
            "/usr/local/lib/python3.6/dist-packages/ipykernel_launcher.py:79: SettingWithCopyWarning: \n",
            "A value is trying to be set on a copy of a slice from a DataFrame.\n",
            "Try using .loc[row_indexer,col_indexer] = value instead\n",
            "\n",
            "See the caveats in the documentation: http://pandas.pydata.org/pandas-docs/stable/indexing.html#indexing-view-versus-copy\n"
          ],
          "name": "stderr"
        },
        {
          "output_type": "stream",
          "text": [
            "\n",
            "Ticker AIXA has 156457 records.\n",
            "R2 for AIXA: -0.7399675438932678\n",
            "MSE for AIXA: 5.255184991565075\n",
            "0.06507550962976148\n"
          ],
          "name": "stdout"
        },
        {
          "output_type": "stream",
          "text": [
            "/usr/local/lib/python3.6/dist-packages/ipykernel_launcher.py:79: SettingWithCopyWarning: \n",
            "A value is trying to be set on a copy of a slice from a DataFrame.\n",
            "Try using .loc[row_indexer,col_indexer] = value instead\n",
            "\n",
            "See the caveats in the documentation: http://pandas.pydata.org/pandas-docs/stable/indexing.html#indexing-view-versus-copy\n"
          ],
          "name": "stderr"
        },
        {
          "output_type": "stream",
          "text": [
            "409.8785632549401\n",
            "Ticker SAP has 156457 records.\n",
            "R2 for SAP: -0.9540163512602264\n",
            "MSE for SAP: 32.43923845984867\n",
            "0.3987329801344751\n",
            "442.31780171478874\n"
          ],
          "name": "stdout"
        },
        {
          "output_type": "stream",
          "text": [
            "/usr/local/lib/python3.6/dist-packages/ipykernel_launcher.py:79: SettingWithCopyWarning: \n",
            "A value is trying to be set on a copy of a slice from a DataFrame.\n",
            "Try using .loc[row_indexer,col_indexer] = value instead\n",
            "\n",
            "See the caveats in the documentation: http://pandas.pydata.org/pandas-docs/stable/indexing.html#indexing-view-versus-copy\n"
          ],
          "name": "stderr"
        },
        {
          "output_type": "stream",
          "text": [
            "Ticker BAS has 156457 records.\n",
            "R2 for BAS: -52.524636022386495\n",
            "MSE for BAS: 177.66737090062207\n",
            "2.1505645642638886\n",
            "619.9851726154109\n"
          ],
          "name": "stdout"
        },
        {
          "output_type": "stream",
          "text": [
            "/usr/local/lib/python3.6/dist-packages/ipykernel_launcher.py:79: SettingWithCopyWarning: \n",
            "A value is trying to be set on a copy of a slice from a DataFrame.\n",
            "Try using .loc[row_indexer,col_indexer] = value instead\n",
            "\n",
            "See the caveats in the documentation: http://pandas.pydata.org/pandas-docs/stable/indexing.html#indexing-view-versus-copy\n"
          ],
          "name": "stderr"
        },
        {
          "output_type": "stream",
          "text": [
            "Ticker EVT has 156457 records.\n",
            "R2 for EVT: 0.11289477985818597\n",
            "MSE for EVT: 0.9529245283772853\n",
            "0.010861403854676112\n",
            "620.9380971437881\n"
          ],
          "name": "stdout"
        },
        {
          "output_type": "stream",
          "text": [
            "/usr/local/lib/python3.6/dist-packages/ipykernel_launcher.py:79: SettingWithCopyWarning: \n",
            "A value is trying to be set on a copy of a slice from a DataFrame.\n",
            "Try using .loc[row_indexer,col_indexer] = value instead\n",
            "\n",
            "See the caveats in the documentation: http://pandas.pydata.org/pandas-docs/stable/indexing.html#indexing-view-versus-copy\n"
          ],
          "name": "stderr"
        },
        {
          "output_type": "stream",
          "text": [
            "Ticker AT1 has 156391 records.\n",
            "R2 for AT1: -6.602101008560669\n",
            "MSE for AT1: 0.40558552831806033\n",
            "0.004609573225598332\n",
            "621.3436826721062\n"
          ],
          "name": "stdout"
        },
        {
          "output_type": "stream",
          "text": [
            "/usr/local/lib/python3.6/dist-packages/ipykernel_launcher.py:79: SettingWithCopyWarning: \n",
            "A value is trying to be set on a copy of a slice from a DataFrame.\n",
            "Try using .loc[row_indexer,col_indexer] = value instead\n",
            "\n",
            "See the caveats in the documentation: http://pandas.pydata.org/pandas-docs/stable/indexing.html#indexing-view-versus-copy\n"
          ],
          "name": "stderr"
        },
        {
          "output_type": "stream",
          "text": [
            "Ticker PSM has 156457 records.\n",
            "R2 for PSM: -2.353639375730124\n",
            "MSE for PSM: 7.032993737348904\n",
            "0.07170109077792733\n",
            "628.3766764094551\n"
          ],
          "name": "stdout"
        },
        {
          "output_type": "stream",
          "text": [
            "/usr/local/lib/python3.6/dist-packages/ipykernel_launcher.py:79: SettingWithCopyWarning: \n",
            "A value is trying to be set on a copy of a slice from a DataFrame.\n",
            "Try using .loc[row_indexer,col_indexer] = value instead\n",
            "\n",
            "See the caveats in the documentation: http://pandas.pydata.org/pandas-docs/stable/indexing.html#indexing-view-versus-copy\n"
          ],
          "name": "stderr"
        },
        {
          "output_type": "stream",
          "text": [
            "Ticker BMW has 156457 records.\n",
            "R2 for BMW: -1.6413248051637823\n",
            "MSE for BMW: 23.19474408667437\n",
            "0.21845908532094108\n",
            "651.5714204961295"
          ],
          "name": "stdout"
        },
        {
          "output_type": "stream",
          "text": [
            "/usr/local/lib/python3.6/dist-packages/ipykernel_launcher.py:79: SettingWithCopyWarning: \n",
            "A value is trying to be set on a copy of a slice from a DataFrame.\n",
            "Try using .loc[row_indexer,col_indexer] = value instead\n",
            "\n",
            "See the caveats in the documentation: http://pandas.pydata.org/pandas-docs/stable/indexing.html#indexing-view-versus-copy\n"
          ],
          "name": "stderr"
        },
        {
          "output_type": "stream",
          "text": [
            "\n",
            "Ticker VOW3 has 156457 records.\n",
            "R2 for VOW3: -10.334720229036073\n",
            "MSE for VOW3: 652.4398179294951\n",
            "5.302086705762625\n",
            "1304.0112384256245\n"
          ],
          "name": "stdout"
        },
        {
          "output_type": "stream",
          "text": [
            "/usr/local/lib/python3.6/dist-packages/ipykernel_launcher.py:79: SettingWithCopyWarning: \n",
            "A value is trying to be set on a copy of a slice from a DataFrame.\n",
            "Try using .loc[row_indexer,col_indexer] = value instead\n",
            "\n",
            "See the caveats in the documentation: http://pandas.pydata.org/pandas-docs/stable/indexing.html#indexing-view-versus-copy\n"
          ],
          "name": "stderr"
        },
        {
          "output_type": "stream",
          "text": [
            "Ticker FRE has 156457 records.\n",
            "R2 for FRE: -2.3277402361066235\n",
            "MSE for FRE: 12.074062363733999\n"
          ],
          "name": "stdout"
        },
        {
          "output_type": "stream",
          "text": [
            "/usr/local/lib/python3.6/dist-packages/ipykernel_launcher.py:79: SettingWithCopyWarning: \n",
            "A value is trying to be set on a copy of a slice from a DataFrame.\n",
            "Try using .loc[row_indexer,col_indexer] = value instead\n",
            "\n",
            "See the caveats in the documentation: http://pandas.pydata.org/pandas-docs/stable/indexing.html#indexing-view-versus-copy\n"
          ],
          "name": "stderr"
        },
        {
          "output_type": "stream",
          "text": [
            "0.09380570486272884\n",
            "1316.0853007893584\n",
            "Ticker SDF has 156456 records.\n",
            "R2 for SDF: -17.790915364992205\n",
            "MSE for SDF: 8.736017615492884\n",
            "0.06302538544132803\n",
            "1324.8213184048514\n"
          ],
          "name": "stdout"
        },
        {
          "output_type": "stream",
          "text": [
            "/usr/local/lib/python3.6/dist-packages/ipykernel_launcher.py:79: SettingWithCopyWarning: \n",
            "A value is trying to be set on a copy of a slice from a DataFrame.\n",
            "Try using .loc[row_indexer,col_indexer] = value instead\n",
            "\n",
            "See the caveats in the documentation: http://pandas.pydata.org/pandas-docs/stable/indexing.html#indexing-view-versus-copy\n"
          ],
          "name": "stderr"
        },
        {
          "output_type": "stream",
          "text": [
            "Ticker ALV has 156457 records.\n",
            "R2 for ALV: -10.449840911310314\n",
            "MSE for ALV: 279.14772859552676\n",
            "1.9456290142686046"
          ],
          "name": "stdout"
        },
        {
          "output_type": "stream",
          "text": [
            "/usr/local/lib/python3.6/dist-packages/ipykernel_launcher.py:79: SettingWithCopyWarning: \n",
            "A value is trying to be set on a copy of a slice from a DataFrame.\n",
            "Try using .loc[row_indexer,col_indexer] = value instead\n",
            "\n",
            "See the caveats in the documentation: http://pandas.pydata.org/pandas-docs/stable/indexing.html#indexing-view-versus-copy\n"
          ],
          "name": "stderr"
        },
        {
          "output_type": "stream",
          "text": [
            "\n",
            "1603.9690470003782\n",
            "Ticker CEC has 150688 records.\n",
            "R2 for CEC: -46.53369725322794\n",
            "MSE for CEC: 10.51290441604121\n",
            "0.0731591053286121\n",
            "1614.4819514164194"
          ],
          "name": "stdout"
        },
        {
          "output_type": "stream",
          "text": [
            "/usr/local/lib/python3.6/dist-packages/ipykernel_launcher.py:79: SettingWithCopyWarning: \n",
            "A value is trying to be set on a copy of a slice from a DataFrame.\n",
            "Try using .loc[row_indexer,col_indexer] = value instead\n",
            "\n",
            "See the caveats in the documentation: http://pandas.pydata.org/pandas-docs/stable/indexing.html#indexing-view-versus-copy\n"
          ],
          "name": "stderr"
        },
        {
          "output_type": "stream",
          "text": [
            "\n",
            "Ticker GAZ has 156457 records.\n",
            "R2 for GAZ: -7.456304200783659\n",
            "MSE for GAZ: 0.16149131207476777\n",
            "0.0011199844868620375\n",
            "1614.6434427284942\n"
          ],
          "name": "stdout"
        },
        {
          "output_type": "stream",
          "text": [
            "/usr/local/lib/python3.6/dist-packages/ipykernel_launcher.py:79: SettingWithCopyWarning: \n",
            "A value is trying to be set on a copy of a slice from a DataFrame.\n",
            "Try using .loc[row_indexer,col_indexer] = value instead\n",
            "\n",
            "See the caveats in the documentation: http://pandas.pydata.org/pandas-docs/stable/indexing.html#indexing-view-versus-copy\n"
          ],
          "name": "stderr"
        },
        {
          "output_type": "stream",
          "text": [
            "Ticker VNA has 156457 records.\n",
            "R2 for VNA: -3.08862289489647\n",
            "MSE for VNA: 5.93075969241117\n",
            "0.040669035887832945\n",
            "1620.5742024209053\n"
          ],
          "name": "stdout"
        },
        {
          "output_type": "stream",
          "text": [
            "/usr/local/lib/python3.6/dist-packages/ipykernel_launcher.py:79: SettingWithCopyWarning: \n",
            "A value is trying to be set on a copy of a slice from a DataFrame.\n",
            "Try using .loc[row_indexer,col_indexer] = value instead\n",
            "\n",
            "See the caveats in the documentation: http://pandas.pydata.org/pandas-docs/stable/indexing.html#indexing-view-versus-copy\n"
          ],
          "name": "stderr"
        },
        {
          "output_type": "stream",
          "text": [
            "Ticker B4B has 150689 records.\n",
            "R2 for B4B: -2.9213261699768545\n",
            "MSE for B4B: 8.910093412470575\n",
            "0.05513535400037978\n",
            "1629.4842958333759\n"
          ],
          "name": "stdout"
        },
        {
          "output_type": "stream",
          "text": [
            "/usr/local/lib/python3.6/dist-packages/ipykernel_launcher.py:79: SettingWithCopyWarning: \n",
            "A value is trying to be set on a copy of a slice from a DataFrame.\n",
            "Try using .loc[row_indexer,col_indexer] = value instead\n",
            "\n",
            "See the caveats in the documentation: http://pandas.pydata.org/pandas-docs/stable/indexing.html#indexing-view-versus-copy\n"
          ],
          "name": "stderr"
        },
        {
          "output_type": "stream",
          "text": [
            "Ticker SHA has 156457 records.\n",
            "R2 for SHA: -70.03752429376414\n",
            "MSE for SHA: 8.017139851944792\n",
            "0.04869893237505068\n",
            "1637.5014356853208\n"
          ],
          "name": "stdout"
        },
        {
          "output_type": "stream",
          "text": [
            "/usr/local/lib/python3.6/dist-packages/ipykernel_launcher.py:79: SettingWithCopyWarning: \n",
            "A value is trying to be set on a copy of a slice from a DataFrame.\n",
            "Try using .loc[row_indexer,col_indexer] = value instead\n",
            "\n",
            "See the caveats in the documentation: http://pandas.pydata.org/pandas-docs/stable/indexing.html#indexing-view-versus-copy\n"
          ],
          "name": "stderr"
        },
        {
          "output_type": "stream",
          "text": [
            "Ticker AB1 has 156441 records.\n",
            "R2 for AB1: -8006.909082417976\n",
            "MSE for AB1: 0.13831385142171626\n",
            "0.0006946096305423485\n",
            "1637.6397495367426\n"
          ],
          "name": "stdout"
        },
        {
          "output_type": "stream",
          "text": [
            "/usr/local/lib/python3.6/dist-packages/ipykernel_launcher.py:79: SettingWithCopyWarning: \n",
            "A value is trying to be set on a copy of a slice from a DataFrame.\n",
            "Try using .loc[row_indexer,col_indexer] = value instead\n",
            "\n",
            "See the caveats in the documentation: http://pandas.pydata.org/pandas-docs/stable/indexing.html#indexing-view-versus-copy\n"
          ],
          "name": "stderr"
        },
        {
          "output_type": "stream",
          "text": [
            "Ticker DLG has 156457 records.\n",
            "R2 for DLG: 0.6547103448553715\n",
            "MSE for DLG: 2.939950505575615\n",
            "0.014606576778134555\n",
            "1640.579700042318\n"
          ],
          "name": "stdout"
        },
        {
          "output_type": "stream",
          "text": [
            "/usr/local/lib/python3.6/dist-packages/ipykernel_launcher.py:79: SettingWithCopyWarning: \n",
            "A value is trying to be set on a copy of a slice from a DataFrame.\n",
            "Try using .loc[row_indexer,col_indexer] = value instead\n",
            "\n",
            "See the caveats in the documentation: http://pandas.pydata.org/pandas-docs/stable/indexing.html#indexing-view-versus-copy\n"
          ],
          "name": "stderr"
        },
        {
          "output_type": "stream",
          "text": [
            "Ticker NDX1 has 156457 records.\n",
            "R2 for NDX1: -1.8860995607066928\n",
            "MSE for NDX1: 1.1339220448393\n",
            "0.005490602854386683\n",
            "1641.7136220871573\n"
          ],
          "name": "stdout"
        },
        {
          "output_type": "stream",
          "text": [
            "/usr/local/lib/python3.6/dist-packages/ipykernel_launcher.py:79: SettingWithCopyWarning: \n",
            "A value is trying to be set on a copy of a slice from a DataFrame.\n",
            "Try using .loc[row_indexer,col_indexer] = value instead\n",
            "\n",
            "See the caveats in the documentation: http://pandas.pydata.org/pandas-docs/stable/indexing.html#indexing-view-versus-copy\n"
          ],
          "name": "stderr"
        },
        {
          "output_type": "stream",
          "text": [
            "Ticker UN01 has 156457 records.\n",
            "R2 for UN01: -7.899728668620218\n",
            "MSE for UN01: 11.515305231202083\n",
            "0.05527899592428599\n",
            "1653.2289273183594"
          ],
          "name": "stdout"
        },
        {
          "output_type": "stream",
          "text": [
            "/usr/local/lib/python3.6/dist-packages/ipykernel_launcher.py:79: SettingWithCopyWarning: \n",
            "A value is trying to be set on a copy of a slice from a DataFrame.\n",
            "Try using .loc[row_indexer,col_indexer] = value instead\n",
            "\n",
            "See the caveats in the documentation: http://pandas.pydata.org/pandas-docs/stable/indexing.html#indexing-view-versus-copy\n"
          ],
          "name": "stderr"
        },
        {
          "output_type": "stream",
          "text": [
            "\n",
            "Ticker NOA3 has 156455 records.\n",
            "R2 for NOA3: -22.81267424012734\n",
            "MSE for NOA3: 1.5580213920663084\n",
            "0.007408536315878473"
          ],
          "name": "stdout"
        },
        {
          "output_type": "stream",
          "text": [
            "/usr/local/lib/python3.6/dist-packages/ipykernel_launcher.py:79: SettingWithCopyWarning: \n",
            "A value is trying to be set on a copy of a slice from a DataFrame.\n",
            "Try using .loc[row_indexer,col_indexer] = value instead\n",
            "\n",
            "See the caveats in the documentation: http://pandas.pydata.org/pandas-docs/stable/indexing.html#indexing-view-versus-copy\n"
          ],
          "name": "stderr"
        },
        {
          "output_type": "stream",
          "text": [
            "\n",
            "1654.7869487104258\n",
            "Ticker IGY has 156454 records.\n",
            "R2 for IGY: -4.964347462271424\n",
            "MSE for IGY: 22.21094099799975\n",
            "0.098459263482061\n",
            "1676.9978897084256\n"
          ],
          "name": "stdout"
        },
        {
          "output_type": "stream",
          "text": [
            "/usr/local/lib/python3.6/dist-packages/ipykernel_launcher.py:79: SettingWithCopyWarning: \n",
            "A value is trying to be set on a copy of a slice from a DataFrame.\n",
            "Try using .loc[row_indexer,col_indexer] = value instead\n",
            "\n",
            "See the caveats in the documentation: http://pandas.pydata.org/pandas-docs/stable/indexing.html#indexing-view-versus-copy\n"
          ],
          "name": "stderr"
        },
        {
          "output_type": "stream",
          "text": [
            "Ticker ADS has 156457 records.\n",
            "R2 for ADS: -2.8498901912339862\n"
          ],
          "name": "stdout"
        },
        {
          "output_type": "stream",
          "text": [
            "/usr/local/lib/python3.6/dist-packages/ipykernel_launcher.py:79: SettingWithCopyWarning: \n",
            "A value is trying to be set on a copy of a slice from a DataFrame.\n",
            "Try using .loc[row_indexer,col_indexer] = value instead\n",
            "\n",
            "See the caveats in the documentation: http://pandas.pydata.org/pandas-docs/stable/indexing.html#indexing-view-versus-copy\n"
          ],
          "name": "stderr"
        },
        {
          "output_type": "stream",
          "text": [
            "MSE for ADS: 561.9305204667961\n",
            "2.4792073012265248\n",
            "2238.928410175222\n",
            "Ticker VODI has 156457 records.\n",
            "R2 for VODI: -8.096199381480341\n",
            "MSE for VODI: 0.042623865222742224\n",
            "0.00018557322498064308\n",
            "2238.9710340404445"
          ],
          "name": "stdout"
        },
        {
          "output_type": "stream",
          "text": [
            "/usr/local/lib/python3.6/dist-packages/ipykernel_launcher.py:79: SettingWithCopyWarning: \n",
            "A value is trying to be set on a copy of a slice from a DataFrame.\n",
            "Try using .loc[row_indexer,col_indexer] = value instead\n",
            "\n",
            "See the caveats in the documentation: http://pandas.pydata.org/pandas-docs/stable/indexing.html#indexing-view-versus-copy\n"
          ],
          "name": "stderr"
        },
        {
          "output_type": "stream",
          "text": [
            "\n",
            "Ticker 1COV has 156457 records.\n",
            "R2 for 1COV: -15.861106555008469\n",
            "MSE for 1COV: 401.15309290387995\n"
          ],
          "name": "stdout"
        },
        {
          "output_type": "stream",
          "text": [
            "/usr/local/lib/python3.6/dist-packages/ipykernel_launcher.py:79: SettingWithCopyWarning: \n",
            "A value is trying to be set on a copy of a slice from a DataFrame.\n",
            "Try using .loc[row_indexer,col_indexer] = value instead\n",
            "\n",
            "See the caveats in the documentation: http://pandas.pydata.org/pandas-docs/stable/indexing.html#indexing-view-versus-copy\n"
          ],
          "name": "stderr"
        },
        {
          "output_type": "stream",
          "text": [
            "1.688394030190633\n",
            "2640.1241269443244\n",
            "Ticker TUI1 has 156457 records.\n",
            "R2 for TUI1: -0.31732328781130503\n",
            "MSE for TUI1: 1.1219747528178399\n",
            "0.004391006367390499\n",
            "2641.2461016971424"
          ],
          "name": "stdout"
        },
        {
          "output_type": "stream",
          "text": [
            "/usr/local/lib/python3.6/dist-packages/ipykernel_launcher.py:79: SettingWithCopyWarning: \n",
            "A value is trying to be set on a copy of a slice from a DataFrame.\n",
            "Try using .loc[row_indexer,col_indexer] = value instead\n",
            "\n",
            "See the caveats in the documentation: http://pandas.pydata.org/pandas-docs/stable/indexing.html#indexing-view-versus-copy\n"
          ],
          "name": "stderr"
        },
        {
          "output_type": "stream",
          "text": [
            "\n",
            "Ticker BPE5 has 156457 records.\n",
            "R2 for BPE5: -0.25144778774154997\n",
            "MSE for BPE5: 0.20228801144919034\n",
            "0.000775182573001639\n",
            "2641.4483897085915"
          ],
          "name": "stdout"
        },
        {
          "output_type": "stream",
          "text": [
            "/usr/local/lib/python3.6/dist-packages/ipykernel_launcher.py:79: SettingWithCopyWarning: \n",
            "A value is trying to be set on a copy of a slice from a DataFrame.\n",
            "Try using .loc[row_indexer,col_indexer] = value instead\n",
            "\n",
            "See the caveats in the documentation: http://pandas.pydata.org/pandas-docs/stable/indexing.html#indexing-view-versus-copy\n"
          ],
          "name": "stderr"
        },
        {
          "output_type": "stream",
          "text": [
            "\n",
            "Ticker HEI has 156457 records.\n",
            "R2 for HEI: -46.673576275682166\n",
            "MSE for HEI: 99.07057254668072\n",
            "0.37559406894930975\n",
            "2740.518962255272\n"
          ],
          "name": "stdout"
        },
        {
          "output_type": "stream",
          "text": [
            "/usr/local/lib/python3.6/dist-packages/ipykernel_launcher.py:79: SettingWithCopyWarning: \n",
            "A value is trying to be set on a copy of a slice from a DataFrame.\n",
            "Try using .loc[row_indexer,col_indexer] = value instead\n",
            "\n",
            "See the caveats in the documentation: http://pandas.pydata.org/pandas-docs/stable/indexing.html#indexing-view-versus-copy\n"
          ],
          "name": "stderr"
        },
        {
          "output_type": "stream",
          "text": [
            "Ticker USE has 156311 records.\n",
            "R2 for USE: -2.110608086742672\n",
            "MSE for USE: 0.002353600624681535\n",
            "8.809148078237287e-06\n",
            "2740.521315855897\n"
          ],
          "name": "stdout"
        },
        {
          "output_type": "stream",
          "text": [
            "/usr/local/lib/python3.6/dist-packages/ipykernel_launcher.py:79: SettingWithCopyWarning: \n",
            "A value is trying to be set on a copy of a slice from a DataFrame.\n",
            "Try using .loc[row_indexer,col_indexer] = value instead\n",
            "\n",
            "See the caveats in the documentation: http://pandas.pydata.org/pandas-docs/stable/indexing.html#indexing-view-versus-copy\n"
          ],
          "name": "stderr"
        },
        {
          "output_type": "stream",
          "text": [
            "Ticker KCO has 156456 records.\n",
            "R2 for KCO: -0.2548406676196311\n",
            "MSE for KCO: 0.20090609455412556\n"
          ],
          "name": "stdout"
        },
        {
          "output_type": "stream",
          "text": [
            "/usr/local/lib/python3.6/dist-packages/ipykernel_launcher.py:79: SettingWithCopyWarning: \n",
            "A value is trying to be set on a copy of a slice from a DataFrame.\n",
            "Try using .loc[row_indexer,col_indexer] = value instead\n",
            "\n",
            "See the caveats in the documentation: http://pandas.pydata.org/pandas-docs/stable/indexing.html#indexing-view-versus-copy\n"
          ],
          "name": "stderr"
        },
        {
          "output_type": "stream",
          "text": [
            "0.0007286046525457159\n",
            "2740.722221950451\n",
            "Ticker SZU has 156457 records.\n",
            "R2 for SZU: -2.5714068251243627\n",
            "MSE for SZU: 1.2876653584818951\n",
            "0.00454783373126727\n",
            "2742.009887308933\n"
          ],
          "name": "stdout"
        },
        {
          "output_type": "stream",
          "text": [
            "/usr/local/lib/python3.6/dist-packages/ipykernel_launcher.py:79: SettingWithCopyWarning: \n",
            "A value is trying to be set on a copy of a slice from a DataFrame.\n",
            "Try using .loc[row_indexer,col_indexer] = value instead\n",
            "\n",
            "See the caveats in the documentation: http://pandas.pydata.org/pandas-docs/stable/indexing.html#indexing-view-versus-copy\n"
          ],
          "name": "stderr"
        },
        {
          "output_type": "stream",
          "text": [
            "Ticker EVK has 156457 records.\n",
            "R2 for EVK: -12.618310488334487\n",
            "MSE for EVK: 12.00754116081062\n",
            "0.042214774267770844\n",
            "2754.017428469743\n"
          ],
          "name": "stdout"
        },
        {
          "output_type": "stream",
          "text": [
            "/usr/local/lib/python3.6/dist-packages/ipykernel_launcher.py:79: SettingWithCopyWarning: \n",
            "A value is trying to be set on a copy of a slice from a DataFrame.\n",
            "Try using .loc[row_indexer,col_indexer] = value instead\n",
            "\n",
            "See the caveats in the documentation: http://pandas.pydata.org/pandas-docs/stable/indexing.html#indexing-view-versus-copy\n"
          ],
          "name": "stderr"
        },
        {
          "output_type": "stream",
          "text": [
            "Ticker ADV has 156454 records.\n",
            "R2 for ADV: 0.07463041953725913\n",
            "MSE for ADV: 0.1119069821365791\n",
            "0.00039210425846606056\n",
            "2754.12933545188\n"
          ],
          "name": "stdout"
        },
        {
          "output_type": "stream",
          "text": [
            "/usr/local/lib/python3.6/dist-packages/ipykernel_launcher.py:79: SettingWithCopyWarning: \n",
            "A value is trying to be set on a copy of a slice from a DataFrame.\n",
            "Try using .loc[row_indexer,col_indexer] = value instead\n",
            "\n",
            "See the caveats in the documentation: http://pandas.pydata.org/pandas-docs/stable/indexing.html#indexing-view-versus-copy\n"
          ],
          "name": "stderr"
        },
        {
          "output_type": "stream",
          "text": [
            "Ticker HEN3 has 156457 records.\n",
            "R2 for HEN3: 0.004044740112931322\n",
            "MSE for HEN3: 7.432302390015083\n",
            "0.025977730466242344\n",
            "2761.561637841895\n"
          ],
          "name": "stdout"
        },
        {
          "output_type": "stream",
          "text": [
            "/usr/local/lib/python3.6/dist-packages/ipykernel_launcher.py:79: SettingWithCopyWarning: \n",
            "A value is trying to be set on a copy of a slice from a DataFrame.\n",
            "Try using .loc[row_indexer,col_indexer] = value instead\n",
            "\n",
            "See the caveats in the documentation: http://pandas.pydata.org/pandas-docs/stable/indexing.html#indexing-view-versus-copy\n"
          ],
          "name": "stderr"
        },
        {
          "output_type": "stream",
          "text": [
            "Ticker MUV2 has 156457 records.\n",
            "R2 for MUV2: 0.17587332152582802\n",
            "MSE for MUV2: 18.335845656850452\n",
            "0.06246956916969799\n",
            "2779.8974834987453\n"
          ],
          "name": "stdout"
        },
        {
          "output_type": "stream",
          "text": [
            "/usr/local/lib/python3.6/dist-packages/ipykernel_launcher.py:79: SettingWithCopyWarning: \n",
            "A value is trying to be set on a copy of a slice from a DataFrame.\n",
            "Try using .loc[row_indexer,col_indexer] = value instead\n",
            "\n",
            "See the caveats in the documentation: http://pandas.pydata.org/pandas-docs/stable/indexing.html#indexing-view-versus-copy\n"
          ],
          "name": "stderr"
        },
        {
          "output_type": "stream",
          "text": [
            "Ticker WDI has 156457 records.\n",
            "R2 for WDI: 0.050989523329086794\n",
            "MSE for WDI: 76.92743537483283\n",
            "0.26060156623552233\n",
            "2856.824918873578\n"
          ],
          "name": "stdout"
        },
        {
          "output_type": "stream",
          "text": [
            "/usr/local/lib/python3.6/dist-packages/ipykernel_launcher.py:79: SettingWithCopyWarning: \n",
            "A value is trying to be set on a copy of a slice from a DataFrame.\n",
            "Try using .loc[row_indexer,col_indexer] = value instead\n",
            "\n",
            "See the caveats in the documentation: http://pandas.pydata.org/pandas-docs/stable/indexing.html#indexing-view-versus-copy\n"
          ],
          "name": "stderr"
        },
        {
          "output_type": "stream",
          "text": [
            "Ticker DWNI has 156457 records.\n",
            "R2 for DWNI: 0.10137522706303648\n",
            "MSE for DWNI: 3.0834861239128077\n",
            "0.010094042066573739\n"
          ],
          "name": "stdout"
        },
        {
          "output_type": "stream",
          "text": [
            "/usr/local/lib/python3.6/dist-packages/ipykernel_launcher.py:79: SettingWithCopyWarning: \n",
            "A value is trying to be set on a copy of a slice from a DataFrame.\n",
            "Try using .loc[row_indexer,col_indexer] = value instead\n",
            "\n",
            "See the caveats in the documentation: http://pandas.pydata.org/pandas-docs/stable/indexing.html#indexing-view-versus-copy\n"
          ],
          "name": "stderr"
        },
        {
          "output_type": "stream",
          "text": [
            "2859.908404997491\n",
            "Ticker MRK has 156457 records.\n",
            "R2 for MRK: -3.5071219859544795\n",
            "MSE for MRK: 21.44418897869992\n",
            "0.07014547151293185"
          ],
          "name": "stdout"
        },
        {
          "output_type": "stream",
          "text": [
            "/usr/local/lib/python3.6/dist-packages/ipykernel_launcher.py:79: SettingWithCopyWarning: \n",
            "A value is trying to be set on a copy of a slice from a DataFrame.\n",
            "Try using .loc[row_indexer,col_indexer] = value instead\n",
            "\n",
            "See the caveats in the documentation: http://pandas.pydata.org/pandas-docs/stable/indexing.html#indexing-view-versus-copy\n"
          ],
          "name": "stderr"
        },
        {
          "output_type": "stream",
          "text": [
            "\n",
            "2881.3525939761907\n",
            "Ticker PAH3 has 156456 records.\n",
            "R2 for PAH3: -25.933961826085742\n",
            "MSE for PAH3: 187.39522454594302\n"
          ],
          "name": "stdout"
        },
        {
          "output_type": "stream",
          "text": [
            "/usr/local/lib/python3.6/dist-packages/ipykernel_launcher.py:79: SettingWithCopyWarning: \n",
            "A value is trying to be set on a copy of a slice from a DataFrame.\n",
            "Try using .loc[row_indexer,col_indexer] = value instead\n",
            "\n",
            "See the caveats in the documentation: http://pandas.pydata.org/pandas-docs/stable/indexing.html#indexing-view-versus-copy\n"
          ],
          "name": "stderr"
        },
        {
          "output_type": "stream",
          "text": [
            "0.5870194026522214\n",
            "3068.747818522134\n",
            "Ticker DEZ has 156457 records.\n",
            "R2 for DEZ: 0.12239242232760972\n",
            "MSE for DEZ: 0.1709862690057092\n",
            "0.0005284249835712692\n",
            "3068.91880479114\n"
          ],
          "name": "stdout"
        },
        {
          "output_type": "stream",
          "text": [
            "/usr/local/lib/python3.6/dist-packages/ipykernel_launcher.py:79: SettingWithCopyWarning: \n",
            "A value is trying to be set on a copy of a slice from a DataFrame.\n",
            "Try using .loc[row_indexer,col_indexer] = value instead\n",
            "\n",
            "See the caveats in the documentation: http://pandas.pydata.org/pandas-docs/stable/indexing.html#indexing-view-versus-copy\n"
          ],
          "name": "stderr"
        },
        {
          "output_type": "stream",
          "text": [
            "Ticker FME has 156456 records.\n",
            "R2 for FME: -18.34409777291668\n",
            "MSE for FME: 53.860824176861655\n",
            "0.16397071689852757\n",
            "3122.7796289680014\n"
          ],
          "name": "stdout"
        },
        {
          "output_type": "stream",
          "text": [
            "/usr/local/lib/python3.6/dist-packages/ipykernel_launcher.py:79: SettingWithCopyWarning: \n",
            "A value is trying to be set on a copy of a slice from a DataFrame.\n",
            "Try using .loc[row_indexer,col_indexer] = value instead\n",
            "\n",
            "See the caveats in the documentation: http://pandas.pydata.org/pandas-docs/stable/indexing.html#indexing-view-versus-copy\n"
          ],
          "name": "stderr"
        },
        {
          "output_type": "stream",
          "text": [
            "Ticker FNTN has 156457 records.\n",
            "R2 for FNTN: -35.724276473712976\n",
            "MSE for FNTN: 35.47609640994686\n",
            "0.10699205405709825\n",
            "3158.2557253779482\n"
          ],
          "name": "stdout"
        },
        {
          "output_type": "stream",
          "text": [
            "/usr/local/lib/python3.6/dist-packages/ipykernel_launcher.py:79: SettingWithCopyWarning: \n",
            "A value is trying to be set on a copy of a slice from a DataFrame.\n",
            "Try using .loc[row_indexer,col_indexer] = value instead\n",
            "\n",
            "See the caveats in the documentation: http://pandas.pydata.org/pandas-docs/stable/indexing.html#indexing-view-versus-copy\n"
          ],
          "name": "stderr"
        },
        {
          "output_type": "stream",
          "text": [
            "Ticker G1A has 156457 records.\n",
            "R2 for G1A: -9.448924906735261\n",
            "MSE for G1A: 45.78571953149945\n",
            "0.13700190893129247\n",
            "3204.041444909448\n"
          ],
          "name": "stdout"
        },
        {
          "output_type": "stream",
          "text": [
            "/usr/local/lib/python3.6/dist-packages/ipykernel_launcher.py:79: SettingWithCopyWarning: \n",
            "A value is trying to be set on a copy of a slice from a DataFrame.\n",
            "Try using .loc[row_indexer,col_indexer] = value instead\n",
            "\n",
            "See the caveats in the documentation: http://pandas.pydata.org/pandas-docs/stable/indexing.html#indexing-view-versus-copy\n"
          ],
          "name": "stderr"
        },
        {
          "output_type": "stream",
          "text": [
            "Ticker RKET has 156457 records.\n",
            "R2 for RKET: -1.2840149379859906\n",
            "MSE for RKET: 1.206182743564816\n",
            "0.0035243249793790285\n",
            "3205.247627653013\n"
          ],
          "name": "stdout"
        },
        {
          "output_type": "stream",
          "text": [
            "/usr/local/lib/python3.6/dist-packages/ipykernel_launcher.py:79: SettingWithCopyWarning: \n",
            "A value is trying to be set on a copy of a slice from a DataFrame.\n",
            "Try using .loc[row_indexer,col_indexer] = value instead\n",
            "\n",
            "See the caveats in the documentation: http://pandas.pydata.org/pandas-docs/stable/indexing.html#indexing-view-versus-copy\n"
          ],
          "name": "stderr"
        },
        {
          "output_type": "stream",
          "text": [
            "Ticker QIA has 156457 records.\n",
            "R2 for QIA: -1.0745281436412712\n",
            "MSE for QIA: 2.220547969282226\n",
            "0.006460892377663798\n",
            "3207.468175622295\n"
          ],
          "name": "stdout"
        },
        {
          "output_type": "stream",
          "text": [
            "/usr/local/lib/python3.6/dist-packages/ipykernel_launcher.py:79: SettingWithCopyWarning: \n",
            "A value is trying to be set on a copy of a slice from a DataFrame.\n",
            "Try using .loc[row_indexer,col_indexer] = value instead\n",
            "\n",
            "See the caveats in the documentation: http://pandas.pydata.org/pandas-docs/stable/indexing.html#indexing-view-versus-copy\n"
          ],
          "name": "stderr"
        },
        {
          "output_type": "stream",
          "text": [
            "Ticker DB1 has 156457 records.\n",
            "R2 for DB1: -7.6185677663950315\n",
            "MSE for DB1: 61.87720825423408\n",
            "0.17078079972812066\n",
            "3269.345383876529\n"
          ],
          "name": "stdout"
        },
        {
          "output_type": "stream",
          "text": [
            "/usr/local/lib/python3.6/dist-packages/ipykernel_launcher.py:79: SettingWithCopyWarning: \n",
            "A value is trying to be set on a copy of a slice from a DataFrame.\n",
            "Try using .loc[row_indexer,col_indexer] = value instead\n",
            "\n",
            "See the caveats in the documentation: http://pandas.pydata.org/pandas-docs/stable/indexing.html#indexing-view-versus-copy\n"
          ],
          "name": "stderr"
        },
        {
          "output_type": "stream",
          "text": [
            "Ticker ZAL has 156456 records.\n",
            "R2 for ZAL: -6.451391166917275\n",
            "MSE for ZAL: 17.543608024848997\n",
            "0.04743989953263563\n",
            "3286.888991901378\n"
          ],
          "name": "stdout"
        },
        {
          "output_type": "stream",
          "text": [
            "/usr/local/lib/python3.6/dist-packages/ipykernel_launcher.py:79: SettingWithCopyWarning: \n",
            "A value is trying to be set on a copy of a slice from a DataFrame.\n",
            "Try using .loc[row_indexer,col_indexer] = value instead\n",
            "\n",
            "See the caveats in the documentation: http://pandas.pydata.org/pandas-docs/stable/indexing.html#indexing-view-versus-copy\n"
          ],
          "name": "stderr"
        },
        {
          "output_type": "stream",
          "text": [
            "Ticker RIB has 156451 records.\n",
            "R2 for RIB: -1.1042336554838066\n",
            "MSE for RIB: 63.976547900089834\n",
            "0.1662089068436602\n",
            "3350.865539801468\n"
          ],
          "name": "stdout"
        },
        {
          "output_type": "stream",
          "text": [
            "/usr/local/lib/python3.6/dist-packages/ipykernel_launcher.py:79: SettingWithCopyWarning: \n",
            "A value is trying to be set on a copy of a slice from a DataFrame.\n",
            "Try using .loc[row_indexer,col_indexer] = value instead\n",
            "\n",
            "See the caveats in the documentation: http://pandas.pydata.org/pandas-docs/stable/indexing.html#indexing-view-versus-copy\n"
          ],
          "name": "stderr"
        },
        {
          "output_type": "stream",
          "text": [
            "Ticker QSC has 156449 records.\n",
            "R2 for QSC: -2.951344010429096\n",
            "MSE for QSC: 0.0342218428618773\n",
            "8.875053846131657e-05\n",
            "3350.89976164433\n"
          ],
          "name": "stdout"
        },
        {
          "output_type": "stream",
          "text": [
            "/usr/local/lib/python3.6/dist-packages/ipykernel_launcher.py:79: SettingWithCopyWarning: \n",
            "A value is trying to be set on a copy of a slice from a DataFrame.\n",
            "Try using .loc[row_indexer,col_indexer] = value instead\n",
            "\n",
            "See the caveats in the documentation: http://pandas.pydata.org/pandas-docs/stable/indexing.html#indexing-view-versus-copy\n"
          ],
          "name": "stderr"
        },
        {
          "output_type": "stream",
          "text": [
            "Ticker CON has 156457 records.\n",
            "R2 for CON: -81.71578354321892\n",
            "MSE for CON: 848.879113619424\n",
            "2.131103892828443\n",
            "4199.778875263753\n"
          ],
          "name": "stdout"
        },
        {
          "output_type": "stream",
          "text": [
            "/usr/local/lib/python3.6/dist-packages/ipykernel_launcher.py:79: SettingWithCopyWarning: \n",
            "A value is trying to be set on a copy of a slice from a DataFrame.\n",
            "Try using .loc[row_indexer,col_indexer] = value instead\n",
            "\n",
            "See the caveats in the documentation: http://pandas.pydata.org/pandas-docs/stable/indexing.html#indexing-view-versus-copy\n"
          ],
          "name": "stderr"
        },
        {
          "output_type": "stream",
          "text": [
            "Ticker SGL has 156446 records.\n",
            "R2 for SGL: -5.825684126180679\n",
            "MSE for SGL: 1.46995269117569\n",
            "0.0036378515555547403\n",
            "4201.248827954929"
          ],
          "name": "stdout"
        },
        {
          "output_type": "stream",
          "text": [
            "/usr/local/lib/python3.6/dist-packages/ipykernel_launcher.py:79: SettingWithCopyWarning: \n",
            "A value is trying to be set on a copy of a slice from a DataFrame.\n",
            "Try using .loc[row_indexer,col_indexer] = value instead\n",
            "\n",
            "See the caveats in the documentation: http://pandas.pydata.org/pandas-docs/stable/indexing.html#indexing-view-versus-copy\n"
          ],
          "name": "stderr"
        },
        {
          "output_type": "stream",
          "text": [
            "\n",
            "Ticker BVB has 156455 records.\n",
            "R2 for BVB: -1.9512075221135912\n",
            "MSE for BVB: 0.2504170321037501\n",
            "0.0006075597788006159\n",
            "4201.499244987032"
          ],
          "name": "stdout"
        },
        {
          "output_type": "stream",
          "text": [
            "/usr/local/lib/python3.6/dist-packages/ipykernel_launcher.py:79: SettingWithCopyWarning: \n",
            "A value is trying to be set on a copy of a slice from a DataFrame.\n",
            "Try using .loc[row_indexer,col_indexer] = value instead\n",
            "\n",
            "See the caveats in the documentation: http://pandas.pydata.org/pandas-docs/stable/indexing.html#indexing-view-versus-copy\n"
          ],
          "name": "stderr"
        },
        {
          "output_type": "stream",
          "text": [
            "\n",
            "Ticker SHL has 28772 records.\n",
            "R2 for SHL: -1.9835701762749771\n",
            "MSE for SHL: 0.3547066551937455\n",
            "0.0008484486302661898\n",
            "4201.853951642226\n"
          ],
          "name": "stdout"
        },
        {
          "output_type": "stream",
          "text": [
            "/usr/local/lib/python3.6/dist-packages/ipykernel_launcher.py:79: SettingWithCopyWarning: \n",
            "A value is trying to be set on a copy of a slice from a DataFrame.\n",
            "Try using .loc[row_indexer,col_indexer] = value instead\n",
            "\n",
            "See the caveats in the documentation: http://pandas.pydata.org/pandas-docs/stable/indexing.html#indexing-view-versus-copy\n"
          ],
          "name": "stderr"
        },
        {
          "output_type": "stream",
          "text": [
            "Ticker PNE3 has 156436 records.\n",
            "R2 for PNE3: -3.184228089471329\n",
            "MSE for PNE3: 0.22309702957474345\n",
            "0.0005319638884170106\n",
            "4202.077048671801"
          ],
          "name": "stdout"
        },
        {
          "output_type": "stream",
          "text": [
            "/usr/local/lib/python3.6/dist-packages/ipykernel_launcher.py:79: SettingWithCopyWarning: \n",
            "A value is trying to be set on a copy of a slice from a DataFrame.\n",
            "Try using .loc[row_indexer,col_indexer] = value instead\n",
            "\n",
            "See the caveats in the documentation: http://pandas.pydata.org/pandas-docs/stable/indexing.html#indexing-view-versus-copy\n"
          ],
          "name": "stderr"
        },
        {
          "output_type": "stream",
          "text": [
            "\n",
            "Ticker PBB has 156453 records.\n",
            "R2 for PBB: -14.504233929290478\n",
            "MSE for PBB: 4.342191311683781\n",
            "0.010271419429186407\n",
            "4206.419239983485\n"
          ],
          "name": "stdout"
        },
        {
          "output_type": "stream",
          "text": [
            "/usr/local/lib/python3.6/dist-packages/ipykernel_launcher.py:79: SettingWithCopyWarning: \n",
            "A value is trying to be set on a copy of a slice from a DataFrame.\n",
            "Try using .loc[row_indexer,col_indexer] = value instead\n",
            "\n",
            "See the caveats in the documentation: http://pandas.pydata.org/pandas-docs/stable/indexing.html#indexing-view-versus-copy\n"
          ],
          "name": "stderr"
        },
        {
          "output_type": "stream",
          "text": [
            "Ticker OSR has 156457 records.\n",
            "R2 for OSR: -5.950687500877339\n",
            "MSE for OSR: 201.7398014713278\n",
            "0.4736207656698468\n",
            "4408.159041454813\n"
          ],
          "name": "stdout"
        },
        {
          "output_type": "stream",
          "text": [
            "/usr/local/lib/python3.6/dist-packages/ipykernel_launcher.py:79: SettingWithCopyWarning: \n",
            "A value is trying to be set on a copy of a slice from a DataFrame.\n",
            "Try using .loc[row_indexer,col_indexer] = value instead\n",
            "\n",
            "See the caveats in the documentation: http://pandas.pydata.org/pandas-docs/stable/indexing.html#indexing-view-versus-copy\n"
          ],
          "name": "stderr"
        },
        {
          "output_type": "stream",
          "text": [
            "Ticker TINA has 156443 records.\n",
            "R2 for TINA: -14.016076188611807\n",
            "MSE for TINA: 0.31482142112016726\n",
            "0.0007293547574450804"
          ],
          "name": "stdout"
        },
        {
          "output_type": "stream",
          "text": [
            "/usr/local/lib/python3.6/dist-packages/ipykernel_launcher.py:79: SettingWithCopyWarning: \n",
            "A value is trying to be set on a copy of a slice from a DataFrame.\n",
            "Try using .loc[row_indexer,col_indexer] = value instead\n",
            "\n",
            "See the caveats in the documentation: http://pandas.pydata.org/pandas-docs/stable/indexing.html#indexing-view-versus-copy\n"
          ],
          "name": "stderr"
        },
        {
          "output_type": "stream",
          "text": [
            "\n",
            "4408.473862875933\n",
            "Ticker BEI has 156454 records.\n",
            "R2 for BEI: -4.646936749471009\n",
            "MSE for BEI: 60.93316913275691\n",
            "0.12762051278557676\n",
            "4469.40703200869\n"
          ],
          "name": "stdout"
        },
        {
          "output_type": "stream",
          "text": [
            "/usr/local/lib/python3.6/dist-packages/ipykernel_launcher.py:79: SettingWithCopyWarning: \n",
            "A value is trying to be set on a copy of a slice from a DataFrame.\n",
            "Try using .loc[row_indexer,col_indexer] = value instead\n",
            "\n",
            "See the caveats in the documentation: http://pandas.pydata.org/pandas-docs/stable/indexing.html#indexing-view-versus-copy\n"
          ],
          "name": "stderr"
        },
        {
          "output_type": "stream",
          "text": [
            "Ticker TEG has 156455 records.\n",
            "R2 for TEG: 0.4361983567110621\n",
            "MSE for TEG: 0.4469626359097623\n",
            "0.000933267052888021\n",
            "4469.8539946446\n"
          ],
          "name": "stdout"
        },
        {
          "output_type": "stream",
          "text": [
            "/usr/local/lib/python3.6/dist-packages/ipykernel_launcher.py:79: SettingWithCopyWarning: \n",
            "A value is trying to be set on a copy of a slice from a DataFrame.\n",
            "Try using .loc[row_indexer,col_indexer] = value instead\n",
            "\n",
            "See the caveats in the documentation: http://pandas.pydata.org/pandas-docs/stable/indexing.html#indexing-view-versus-copy\n"
          ],
          "name": "stderr"
        },
        {
          "output_type": "stream",
          "text": [
            "Ticker AOX has 156455 records.\n",
            "R2 for AOX: -3.3319408099809795\n",
            "MSE for AOX: 0.26464171182830504\n",
            "0.0005465300364914584\n",
            "4470.118636356428\n"
          ],
          "name": "stdout"
        },
        {
          "output_type": "stream",
          "text": [
            "/usr/local/lib/python3.6/dist-packages/ipykernel_launcher.py:79: SettingWithCopyWarning: \n",
            "A value is trying to be set on a copy of a slice from a DataFrame.\n",
            "Try using .loc[row_indexer,col_indexer] = value instead\n",
            "\n",
            "See the caveats in the documentation: http://pandas.pydata.org/pandas-docs/stable/indexing.html#indexing-view-versus-copy\n"
          ],
          "name": "stderr"
        },
        {
          "output_type": "stream",
          "text": [
            "Ticker UTDI has 156457 records.\n",
            "R2 for UTDI: -7.110836052625471\n"
          ],
          "name": "stdout"
        },
        {
          "output_type": "stream",
          "text": [
            "/usr/local/lib/python3.6/dist-packages/ipykernel_launcher.py:79: SettingWithCopyWarning: \n",
            "A value is trying to be set on a copy of a slice from a DataFrame.\n",
            "Try using .loc[row_indexer,col_indexer] = value instead\n",
            "\n",
            "See the caveats in the documentation: http://pandas.pydata.org/pandas-docs/stable/indexing.html#indexing-view-versus-copy\n"
          ],
          "name": "stderr"
        },
        {
          "output_type": "stream",
          "text": [
            "MSE for UTDI: 42.02794476471293\n",
            "0.08298970179265232\n",
            "4512.146581121141\n",
            "Ticker ARL has 156455 records.\n",
            "R2 for ARL: 0.425920134476948\n",
            "MSE for ARL: 1.0278416229667557\n",
            "0.0019697219070965266\n",
            "4513.174422744108\n"
          ],
          "name": "stdout"
        },
        {
          "output_type": "stream",
          "text": [
            "/usr/local/lib/python3.6/dist-packages/ipykernel_launcher.py:79: SettingWithCopyWarning: \n",
            "A value is trying to be set on a copy of a slice from a DataFrame.\n",
            "Try using .loc[row_indexer,col_indexer] = value instead\n",
            "\n",
            "See the caveats in the documentation: http://pandas.pydata.org/pandas-docs/stable/indexing.html#indexing-view-versus-copy\n"
          ],
          "name": "stderr"
        },
        {
          "output_type": "stream",
          "text": [
            "Ticker MDG1 has 156456 records.\n",
            "R2 for MDG1: -1.0295154346735376\n",
            "MSE for MDG1: 5.723728353753102\n",
            "0.010705904797165159\n",
            "4518.898151097861\n"
          ],
          "name": "stdout"
        },
        {
          "output_type": "stream",
          "text": [
            "/usr/local/lib/python3.6/dist-packages/ipykernel_launcher.py:79: SettingWithCopyWarning: \n",
            "A value is trying to be set on a copy of a slice from a DataFrame.\n",
            "Try using .loc[row_indexer,col_indexer] = value instead\n",
            "\n",
            "See the caveats in the documentation: http://pandas.pydata.org/pandas-docs/stable/indexing.html#indexing-view-versus-copy\n"
          ],
          "name": "stderr"
        },
        {
          "output_type": "stream",
          "text": [
            "Ticker SANT has 156454 records.\n",
            "R2 for SANT: -2.5203376003512465\n",
            "MSE for SANT: 2.6067827153961045\n",
            "0.004860561850245722\n",
            "4521.504933813258"
          ],
          "name": "stdout"
        },
        {
          "output_type": "stream",
          "text": [
            "/usr/local/lib/python3.6/dist-packages/ipykernel_launcher.py:79: SettingWithCopyWarning: \n",
            "A value is trying to be set on a copy of a slice from a DataFrame.\n",
            "Try using .loc[row_indexer,col_indexer] = value instead\n",
            "\n",
            "See the caveats in the documentation: http://pandas.pydata.org/pandas-docs/stable/indexing.html#indexing-view-versus-copy\n"
          ],
          "name": "stderr"
        },
        {
          "output_type": "stream",
          "text": [
            "\n",
            "Ticker LXS has 156457 records.\n",
            "R2 for LXS: -1.953606644645192\n",
            "MSE for LXS: 23.873495383254085\n"
          ],
          "name": "stdout"
        },
        {
          "output_type": "stream",
          "text": [
            "/usr/local/lib/python3.6/dist-packages/ipykernel_launcher.py:79: SettingWithCopyWarning: \n",
            "A value is trying to be set on a copy of a slice from a DataFrame.\n",
            "Try using .loc[row_indexer,col_indexer] = value instead\n",
            "\n",
            "See the caveats in the documentation: http://pandas.pydata.org/pandas-docs/stable/indexing.html#indexing-view-versus-copy\n"
          ],
          "name": "stderr"
        },
        {
          "output_type": "stream",
          "text": [
            "0.04413140822127814\n",
            "4545.378429196512\n",
            "Ticker KGX has 156456 records.\n",
            "R2 for KGX: -0.9681668924150881\n",
            "MSE for KGX: 11.577730581333663\n",
            "0.02111065746226338\n",
            "4556.956159777846\n"
          ],
          "name": "stdout"
        },
        {
          "output_type": "stream",
          "text": [
            "/usr/local/lib/python3.6/dist-packages/ipykernel_launcher.py:79: SettingWithCopyWarning: \n",
            "A value is trying to be set on a copy of a slice from a DataFrame.\n",
            "Try using .loc[row_indexer,col_indexer] = value instead\n",
            "\n",
            "See the caveats in the documentation: http://pandas.pydata.org/pandas-docs/stable/indexing.html#indexing-view-versus-copy\n"
          ],
          "name": "stderr"
        },
        {
          "output_type": "stream",
          "text": [
            "Ticker TTI has 156456 records.\n",
            "R2 for TTI: -54.79583091537475\n",
            "MSE for TTI: 8.036864997580961\n",
            "0.01428060907817169\n",
            "4564.993024775426\n"
          ],
          "name": "stdout"
        },
        {
          "output_type": "stream",
          "text": [
            "/usr/local/lib/python3.6/dist-packages/ipykernel_launcher.py:79: SettingWithCopyWarning: \n",
            "A value is trying to be set on a copy of a slice from a DataFrame.\n",
            "Try using .loc[row_indexer,col_indexer] = value instead\n",
            "\n",
            "See the caveats in the documentation: http://pandas.pydata.org/pandas-docs/stable/indexing.html#indexing-view-versus-copy\n"
          ],
          "name": "stderr"
        },
        {
          "output_type": "stream",
          "text": [
            "Ticker LINU has 128173 records.\n",
            "R2 for LINU: -8.654416468615677\n",
            "MSE for LINU: 647.9552971918075\n",
            "1.1072471490154945\n"
          ],
          "name": "stdout"
        },
        {
          "output_type": "stream",
          "text": [
            "/usr/local/lib/python3.6/dist-packages/ipykernel_launcher.py:79: SettingWithCopyWarning: \n",
            "A value is trying to be set on a copy of a slice from a DataFrame.\n",
            "Try using .loc[row_indexer,col_indexer] = value instead\n",
            "\n",
            "See the caveats in the documentation: http://pandas.pydata.org/pandas-docs/stable/indexing.html#indexing-view-versus-copy\n"
          ],
          "name": "stderr"
        },
        {
          "output_type": "stream",
          "text": [
            "5212.948321967234\n",
            "Ticker GYC has 156456 records.\n",
            "R2 for GYC: 0.23593396200511696\n",
            "MSE for GYC: 0.2663719002935877\n",
            "0.00045097736269189066\n",
            "5213.214693867528\n"
          ],
          "name": "stdout"
        },
        {
          "output_type": "stream",
          "text": [
            "/usr/local/lib/python3.6/dist-packages/ipykernel_launcher.py:79: SettingWithCopyWarning: \n",
            "A value is trying to be set on a copy of a slice from a DataFrame.\n",
            "Try using .loc[row_indexer,col_indexer] = value instead\n",
            "\n",
            "See the caveats in the documentation: http://pandas.pydata.org/pandas-docs/stable/indexing.html#indexing-view-versus-copy\n"
          ],
          "name": "stderr"
        },
        {
          "output_type": "stream",
          "text": [
            "Ticker ARO has 156419 records.\n",
            "R2 for ARO: -1445.155473679371\n",
            "MSE for ARO: 4.928705934602463e-05\n",
            "8.332431159466844e-08\n",
            "5213.214743154587\n"
          ],
          "name": "stdout"
        },
        {
          "output_type": "stream",
          "text": [
            "/usr/local/lib/python3.6/dist-packages/ipykernel_launcher.py:79: SettingWithCopyWarning: \n",
            "A value is trying to be set on a copy of a slice from a DataFrame.\n",
            "Try using .loc[row_indexer,col_indexer] = value instead\n",
            "\n",
            "See the caveats in the documentation: http://pandas.pydata.org/pandas-docs/stable/indexing.html#indexing-view-versus-copy\n"
          ],
          "name": "stderr"
        },
        {
          "output_type": "stream",
          "text": [
            "Ticker SOW has 156453 records.\n",
            "R2 for SOW: -30.074075766659277\n",
            "MSE for SOW: 47.388338770176716\n",
            "0.07657358221349761\n",
            "5260.603081924764"
          ],
          "name": "stdout"
        },
        {
          "output_type": "stream",
          "text": [
            "/usr/local/lib/python3.6/dist-packages/ipykernel_launcher.py:79: SettingWithCopyWarning: \n",
            "A value is trying to be set on a copy of a slice from a DataFrame.\n",
            "Try using .loc[row_indexer,col_indexer] = value instead\n",
            "\n",
            "See the caveats in the documentation: http://pandas.pydata.org/pandas-docs/stable/indexing.html#indexing-view-versus-copy\n"
          ],
          "name": "stderr"
        },
        {
          "output_type": "stream",
          "text": [
            "\n",
            "Ticker ANO has 156439 records.\n",
            "R2 for ANO: -1.1687798036710711e+31\n",
            "MSE for ANO: 0.0022509880222851505\n",
            "3.6030548253361257e-06\n",
            "5260.605332912786\n"
          ],
          "name": "stdout"
        },
        {
          "output_type": "stream",
          "text": [
            "/usr/local/lib/python3.6/dist-packages/ipykernel_launcher.py:79: SettingWithCopyWarning: \n",
            "A value is trying to be set on a copy of a slice from a DataFrame.\n",
            "Try using .loc[row_indexer,col_indexer] = value instead\n",
            "\n",
            "See the caveats in the documentation: http://pandas.pydata.org/pandas-docs/stable/indexing.html#indexing-view-versus-copy\n"
          ],
          "name": "stderr"
        },
        {
          "output_type": "stream",
          "text": [
            "Ticker SZG has 156456 records.\n",
            "R2 for SZG: -9.46588487168403\n",
            "MSE for SZG: 61.814159172469495\n"
          ],
          "name": "stdout"
        },
        {
          "output_type": "stream",
          "text": [
            "/usr/local/lib/python3.6/dist-packages/ipykernel_launcher.py:79: SettingWithCopyWarning: \n",
            "A value is trying to be set on a copy of a slice from a DataFrame.\n",
            "Try using .loc[row_indexer,col_indexer] = value instead\n",
            "\n",
            "See the caveats in the documentation: http://pandas.pydata.org/pandas-docs/stable/indexing.html#indexing-view-versus-copy\n"
          ],
          "name": "stderr"
        },
        {
          "output_type": "stream",
          "text": [
            "0.0965654748875287\n",
            "5322.419492085256\n",
            "Ticker BOSS has 156457 records.\n",
            "R2 for BOSS: -0.334984929837701\n",
            "MSE for BOSS: 9.189005368827026\n",
            "0.01433789139158988\n",
            "5331.608497454083\n"
          ],
          "name": "stdout"
        },
        {
          "output_type": "stream",
          "text": [
            "/usr/local/lib/python3.6/dist-packages/ipykernel_launcher.py:79: SettingWithCopyWarning: \n",
            "A value is trying to be set on a copy of a slice from a DataFrame.\n",
            "Try using .loc[row_indexer,col_indexer] = value instead\n",
            "\n",
            "See the caveats in the documentation: http://pandas.pydata.org/pandas-docs/stable/indexing.html#indexing-view-versus-copy\n"
          ],
          "name": "stderr"
        },
        {
          "output_type": "stream",
          "text": [
            "Ticker BNR has 156457 records.\n",
            "R2 for BNR: -15.936325289673285\n",
            "MSE for BNR: 36.33692020839686\n",
            "0.05657960830506012\n",
            "5367.9454176624795"
          ],
          "name": "stdout"
        },
        {
          "output_type": "stream",
          "text": [
            "/usr/local/lib/python3.6/dist-packages/ipykernel_launcher.py:79: SettingWithCopyWarning: \n",
            "A value is trying to be set on a copy of a slice from a DataFrame.\n",
            "Try using .loc[row_indexer,col_indexer] = value instead\n",
            "\n",
            "See the caveats in the documentation: http://pandas.pydata.org/pandas-docs/stable/indexing.html#indexing-view-versus-copy\n"
          ],
          "name": "stderr"
        },
        {
          "output_type": "stream",
          "text": [
            "\n",
            "Ticker LLD has 156387 records.\n",
            "R2 for LLD: -4.269005359343005\n",
            "MSE for LLD: 0.0011216798662079508\n"
          ],
          "name": "stdout"
        },
        {
          "output_type": "stream",
          "text": [
            "/usr/local/lib/python3.6/dist-packages/ipykernel_launcher.py:79: SettingWithCopyWarning: \n",
            "A value is trying to be set on a copy of a slice from a DataFrame.\n",
            "Try using .loc[row_indexer,col_indexer] = value instead\n",
            "\n",
            "See the caveats in the documentation: http://pandas.pydata.org/pandas-docs/stable/indexing.html#indexing-view-versus-copy\n"
          ],
          "name": "stderr"
        },
        {
          "output_type": "stream",
          "text": [
            "1.6685393208430628e-06\n",
            "5367.946539342346\n",
            "Ticker WAF has 156457 records.\n",
            "R2 for WAF: -0.4923732344016498\n"
          ],
          "name": "stdout"
        },
        {
          "output_type": "stream",
          "text": [
            "/usr/local/lib/python3.6/dist-packages/ipykernel_launcher.py:79: SettingWithCopyWarning: \n",
            "A value is trying to be set on a copy of a slice from a DataFrame.\n",
            "Try using .loc[row_indexer,col_indexer] = value instead\n",
            "\n",
            "See the caveats in the documentation: http://pandas.pydata.org/pandas-docs/stable/indexing.html#indexing-view-versus-copy\n"
          ],
          "name": "stderr"
        },
        {
          "output_type": "stream",
          "text": [
            "MSE for WAF: 167.70966275082245\n",
            "0.2436762619152057\n",
            "5535.656202093169\n",
            "Ticker DRI has 156456 records.\n",
            "R2 for DRI: -14.654732087330025\n",
            "MSE for DRI: 144.3907788593892\n",
            "0.20474340834952082\n",
            "5680.0469809525575\n"
          ],
          "name": "stdout"
        },
        {
          "output_type": "stream",
          "text": [
            "/usr/local/lib/python3.6/dist-packages/ipykernel_launcher.py:79: SettingWithCopyWarning: \n",
            "A value is trying to be set on a copy of a slice from a DataFrame.\n",
            "Try using .loc[row_indexer,col_indexer] = value instead\n",
            "\n",
            "See the caveats in the documentation: http://pandas.pydata.org/pandas-docs/stable/indexing.html#indexing-view-versus-copy\n"
          ],
          "name": "stderr"
        },
        {
          "output_type": "stream",
          "text": [
            "Ticker NDA has 156457 records.\n",
            "R2 for NDA: -5.43432589743004\n",
            "MSE for NDA: 83.00479892973564\n",
            "0.11595311917973829\n",
            "5763.051779882293\n"
          ],
          "name": "stdout"
        },
        {
          "output_type": "stream",
          "text": [
            "/usr/local/lib/python3.6/dist-packages/ipykernel_launcher.py:79: SettingWithCopyWarning: \n",
            "A value is trying to be set on a copy of a slice from a DataFrame.\n",
            "Try using .loc[row_indexer,col_indexer] = value instead\n",
            "\n",
            "See the caveats in the documentation: http://pandas.pydata.org/pandas-docs/stable/indexing.html#indexing-view-versus-copy\n"
          ],
          "name": "stderr"
        },
        {
          "output_type": "stream",
          "text": [
            "Ticker SY1 has 156455 records.\n",
            "R2 for SY1: -8.24610588298312\n",
            "MSE for SY1: 49.77249235679613\n",
            "0.06902875654174356\n",
            "5812.824272239089\n"
          ],
          "name": "stdout"
        },
        {
          "output_type": "stream",
          "text": [
            "/usr/local/lib/python3.6/dist-packages/ipykernel_launcher.py:79: SettingWithCopyWarning: \n",
            "A value is trying to be set on a copy of a slice from a DataFrame.\n",
            "Try using .loc[row_indexer,col_indexer] = value instead\n",
            "\n",
            "See the caveats in the documentation: http://pandas.pydata.org/pandas-docs/stable/indexing.html#indexing-view-versus-copy\n"
          ],
          "name": "stderr"
        },
        {
          "output_type": "stream",
          "text": [
            "Ticker LIN has 156457 records.\n",
            "R2 for LIN: -8.90959826783753\n",
            "MSE for LIN: 415.52554315836665\n",
            "0.5747539089642194\n",
            "6228.349815397455"
          ],
          "name": "stdout"
        },
        {
          "output_type": "stream",
          "text": [
            "/usr/local/lib/python3.6/dist-packages/ipykernel_launcher.py:79: SettingWithCopyWarning: \n",
            "A value is trying to be set on a copy of a slice from a DataFrame.\n",
            "Try using .loc[row_indexer,col_indexer] = value instead\n",
            "\n",
            "See the caveats in the documentation: http://pandas.pydata.org/pandas-docs/stable/indexing.html#indexing-view-versus-copy\n"
          ],
          "name": "stderr"
        },
        {
          "output_type": "stream",
          "text": [
            "\n",
            "Ticker ZIL2 has 156433 records.\n",
            "R2 for ZIL2: -6.945991902045904\n",
            "MSE for ZIL2: 5.801855695782543\n",
            "0.008003550991042097\n",
            "6234.151671093237"
          ],
          "name": "stdout"
        },
        {
          "output_type": "stream",
          "text": [
            "/usr/local/lib/python3.6/dist-packages/ipykernel_launcher.py:79: SettingWithCopyWarning: \n",
            "A value is trying to be set on a copy of a slice from a DataFrame.\n",
            "Try using .loc[row_indexer,col_indexer] = value instead\n",
            "\n",
            "See the caveats in the documentation: http://pandas.pydata.org/pandas-docs/stable/indexing.html#indexing-view-versus-copy\n"
          ],
          "name": "stderr"
        },
        {
          "output_type": "stream",
          "text": [
            "\n",
            "Ticker CAP has 156447 records.\n",
            "R2 for CAP: -3.641633354516407\n",
            "MSE for CAP: 0.11841571479073885\n",
            "0.0001614843733775261\n",
            "6234.270086808028\n"
          ],
          "name": "stdout"
        },
        {
          "output_type": "stream",
          "text": [
            "/usr/local/lib/python3.6/dist-packages/ipykernel_launcher.py:79: SettingWithCopyWarning: \n",
            "A value is trying to be set on a copy of a slice from a DataFrame.\n",
            "Try using .loc[row_indexer,col_indexer] = value instead\n",
            "\n",
            "See the caveats in the documentation: http://pandas.pydata.org/pandas-docs/stable/indexing.html#indexing-view-versus-copy\n"
          ],
          "name": "stderr"
        },
        {
          "output_type": "stream",
          "text": [
            "Ticker 3W9K has 156034 records.\n",
            "R2 for 3W9K: -657.5648384575716\n",
            "MSE for 3W9K: 0.006318721526719237\n",
            "8.231017114659973e-06\n",
            "6234.276405529555\n",
            "Ran LR in:91.458841\n",
            "Weighted MSE: 30.755047604197816\n",
            "Average MSE: 62.34276405529555\n"
          ],
          "name": "stdout"
        },
        {
          "output_type": "stream",
          "text": [
            "/usr/local/lib/python3.6/dist-packages/ipykernel_launcher.py:79: SettingWithCopyWarning: \n",
            "A value is trying to be set on a copy of a slice from a DataFrame.\n",
            "Try using .loc[row_indexer,col_indexer] = value instead\n",
            "\n",
            "See the caveats in the documentation: http://pandas.pydata.org/pandas-docs/stable/indexing.html#indexing-view-versus-copy\n"
          ],
          "name": "stderr"
        }
      ]
    }
  ]
}