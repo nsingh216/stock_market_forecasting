{
  "nbformat": 4,
  "nbformat_minor": 0,
  "metadata": {
    "colab": {
      "name": "Linear Regression.ipynb",
      "version": "0.3.2",
      "provenance": []
    },
    "kernelspec": {
      "name": "python3",
      "display_name": "Python 3"
    }
  },
  "cells": [
    {
      "cell_type": "code",
      "metadata": {
        "id": "Grpotmq2VFn0",
        "colab_type": "code",
        "colab": {}
      },
      "source": [
        "# Load the Drive helper and mount\n",
        "from google.colab import drive\n",
        "\n",
        "# This will prompt for authorization.\n",
        "drive.mount('/content/drive')\n",
        "\n",
        "data_path = \"/content/drive/My Drive/Colab Notebooks/\"\n"
      ],
      "execution_count": 0,
      "outputs": []
    },
    {
      "cell_type": "code",
      "metadata": {
        "id": "O3rxqrf8U8JK",
        "colab_type": "code",
        "colab": {
          "base_uri": "https://localhost:8080/",
          "height": 18394
        },
        "outputId": "534cf461-3db7-4718-a58f-eed3b02e3f55"
      },
      "source": [
        "import pandas as pd\n",
        "import numpy as np\n",
        "from sklearn.linear_model import LinearRegression\n",
        "from sklearn.model_selection import train_test_split, TimeSeriesSplit\n",
        "from sklearn.metrics import mean_squared_error, r2_score\n",
        "import matplotlib.pyplot as plt\n",
        "from statsmodels.tsa.arima_model import ARIMA\n",
        "from datetime import datetime\n",
        "from yellowbrick.regressor import ResidualsPlot\n",
        "from pandas.plotting import autocorrelation_plot\n",
        "from statsmodels.graphics.tsaplots import plot_acf, plot_pacf\n",
        "\n",
        "\n",
        "def plot_actuals(x, y, ticker):\n",
        "    figure = plt.figure()\n",
        "    figure.title = \"Start prices of \" + ticker\n",
        "    plt.plot(x, y)\n",
        "    plt.xlabel(\"Time\")\n",
        "    plt.ylabel(\"Starting Price\")\n",
        "    plt.show()\n",
        "    # plt.savefig(ticker + \".png\")\n",
        "\n",
        "\n",
        "def run_linear_regression(X_train, X_test, y_train, y_test):\n",
        "    regressor = LinearRegression()\n",
        "    regressor.fit(X_train, y_train)\n",
        "    predictions = regressor.predict(X_test)\n",
        "\n",
        "    r2 = r2_score(y_test, predictions)\n",
        "    print(\"R2 for \" + ticker + \": \" + str(r2))\n",
        "\n",
        "    mse = mean_squared_error(y_test, predictions)\n",
        "    print(\"MSE for \" + ticker + \": \" + str(mse))\n",
        "\n",
        "    return mse\n",
        "\n",
        "\n",
        "df = pd.read_csv(data_path + \"cooked_v3.csv\")\n",
        "print(df.head())\n",
        "print(df.CalcDateTime.min())\n",
        "print(df.CalcDateTime.max())\n",
        "\n",
        "# tickers and their traded volumes\n",
        "total_volume = df['TradedVolume'].sum()\n",
        "volume_series = df.groupby('Mnemonic')['TradedVolume'].sum()\n",
        "volume_series.sort_values(ascending=False, inplace=True)\n",
        "print(volume_series)\n",
        "\n",
        "df.head()\n",
        "df.replace([np.inf, -np.inf], np.nan)\n",
        "df.dropna(inplace=True)\n",
        "\n",
        "start_time = datetime.now()\n",
        "test_size = 0.2\n",
        "n_splits = int((1//test_size)-1)\n",
        "\n",
        "total_weighted_mse = 0\n",
        "unweighted_mse = 0\n",
        "for ticker in volume_series.index:\n",
        "    ticker_data = df[df['Mnemonic'] == ticker]\n",
        "    vol = ticker_data['TradedVolume'].sum()\n",
        "    ticker_data.reset_index(inplace=True)\n",
        "\n",
        "    X = pd.to_numeric(pd.to_datetime(ticker_data['CalcDateTime']))\n",
        "    X = X.values.reshape(-1, 1)\n",
        "\n",
        "    Y = ticker_data['StartPrice']\n",
        "    print(\"Ticker \" + ticker + \" has \" + str(len(X)) + \" records.\")\n",
        "\n",
        "    # plot hourly since min-by-min is really slow\n",
        "    ticker_data['CalcDateTime'] = pd.to_datetime(ticker_data['CalcDateTime'])\n",
        "\n",
        "\n",
        "    # predict last 15 values since arima on 25% of the data is taking too long\n",
        "    train_index = np.arange(0,len(X) - 15)\n",
        "    test_index = np.arange(len(X) - 15, len(X))\n",
        "    X_train, X_test = X[train_index], X[test_index]\n",
        "    y_train, y_test = Y[train_index], Y[test_index]\n",
        "\n",
        "\n",
        "    # ############## LINEAR REGRESSION ###################\n",
        "    mse = run_linear_regression(X_train, X_test, y_train, y_test)\n",
        "    weighted_mse = mse*(vol/total_volume)\n",
        "    print(weighted_mse)\n",
        "    total_weighted_mse = total_weighted_mse + weighted_mse\n",
        "\n",
        "    unweighted_mse = unweighted_mse + mse\n",
        "    print(unweighted_mse)\n",
        "\n",
        "\n",
        "end_time = datetime.now()\n",
        "c = end_time - start_time\n",
        "print(\"Ran LR in:\" + str(c.total_seconds()))\n",
        "\n",
        "print(\"Weighted MSE: \" + str(total_weighted_mse))\n",
        "print(\"Average MSE: \" + str(unweighted_mse/100)) # sum/# of tickers"
      ],
      "execution_count": 3,
      "outputs": [
        {
          "output_type": "stream",
          "text": [
            "          CalcDateTime Mnemonic  MinPrice  MaxPrice  StartPrice  EndPrice  \\\n",
            "0  2017-07-03 08:00:00      SNH     4.450     4.456       4.456     4.450   \n",
            "1  2017-07-03 08:01:00      SNH     4.450     4.456       4.456     4.450   \n",
            "2  2017-07-03 08:02:00      SNH     4.450     4.456       4.456     4.450   \n",
            "3  2017-07-03 08:03:00      SNH     4.457     4.457       4.457     4.457   \n",
            "4  2017-07-03 08:04:00      SNH     4.457     4.457       4.457     4.457   \n",
            "\n",
            "   HasTrade  TradedVolume  NumberOfTrades  \n",
            "0       1.0        5505.0             9.0  \n",
            "1       0.0           0.0             0.0  \n",
            "2       0.0           0.0             0.0  \n",
            "3       1.0         899.0             2.0  \n",
            "4       0.0           0.0             0.0  \n",
            "2017-07-03 08:00:00\n",
            "2018-05-15 20:00:00\n",
            "Mnemonic\n",
            "SNH     4.182139e+09\n",
            "DBK     2.346360e+09\n",
            "EOAN    1.883320e+09\n",
            "DTE     1.695683e+09\n",
            "CBK     1.575910e+09\n",
            "RWE     8.374443e+08\n",
            "IFX     7.630757e+08\n",
            "SVAB    6.026515e+08\n",
            "LHA     5.934044e+08\n",
            "DAI     4.894308e+08\n",
            "O2D     4.206979e+08\n",
            "TKA     4.068489e+08\n",
            "DPW     3.875652e+08\n",
            "SIE     3.303059e+08\n",
            "HDD     3.297946e+08\n",
            "BAYN    3.209365e+08\n",
            "AIXA    3.154691e+08\n",
            "SAP     3.131401e+08\n",
            "BAS     3.083699e+08\n",
            "EVT     2.903719e+08\n",
            "AT1     2.895379e+08\n",
            "PSM     2.597244e+08\n",
            "BMW     2.399428e+08\n",
            "VOW3    2.070301e+08\n",
            "FRE     1.979261e+08\n",
            "SDF     1.837931e+08\n",
            "ALV     1.775633e+08\n",
            "CEC     1.772854e+08\n",
            "GAZ     1.766811e+08\n",
            "VNA     1.746951e+08\n",
            "            ...     \n",
            "PBB     6.026272e+07\n",
            "OSR     5.980897e+07\n",
            "TINA    5.902034e+07\n",
            "BEI     5.335731e+07\n",
            "TEG     5.319391e+07\n",
            "AOX     5.261177e+07\n",
            "UTDI    5.030524e+07\n",
            "ARL     4.882091e+07\n",
            "MDG1    4.765095e+07\n",
            "SANT    4.750166e+07\n",
            "LXS     4.709328e+07\n",
            "KGX     4.645212e+07\n",
            "TTI     4.526758e+07\n",
            "LINU    4.353381e+07\n",
            "GYC     4.313140e+07\n",
            "ARO     4.306912e+07\n",
            "SOW     4.116562e+07\n",
            "ANO     4.077790e+07\n",
            "SZG     3.979799e+07\n",
            "BOSS    3.975063e+07\n",
            "BNR     3.966788e+07\n",
            "LLD     3.789612e+07\n",
            "WAF     3.701539e+07\n",
            "DRI     3.612415e+07\n",
            "NDA     3.558823e+07\n",
            "SY1     3.533197e+07\n",
            "LIN     3.523801e+07\n",
            "ZIL2    3.514334e+07\n",
            "CAP     3.474148e+07\n",
            "3W9K    3.318574e+07\n",
            "Name: TradedVolume, Length: 100, dtype: float64\n",
            "Ticker SNH has 156457 records.\n",
            "R2 for SNH: -1.0727180965883962e+33\n",
            "MSE for SNH: 0.8263919616422686\n",
            "0.13566173332819723\n",
            "0.8263919616422686\n"
          ],
          "name": "stdout"
        },
        {
          "output_type": "stream",
          "text": [
            "/usr/local/lib/python3.6/dist-packages/ipykernel_launcher.py:71: SettingWithCopyWarning: \n",
            "A value is trying to be set on a copy of a slice from a DataFrame.\n",
            "Try using .loc[row_indexer,col_indexer] = value instead\n",
            "\n",
            "See the caveats in the documentation: http://pandas.pydata.org/pandas-docs/stable/indexing.html#indexing-view-versus-copy\n"
          ],
          "name": "stderr"
        },
        {
          "output_type": "stream",
          "text": [
            "Ticker DBK has 156457 records.\n",
            "R2 for DBK: 0.0\n",
            "MSE for DBK: 1.1655600979710683\n",
            "0.10735000977475653\n",
            "1.9919520596133369\n"
          ],
          "name": "stdout"
        },
        {
          "output_type": "stream",
          "text": [
            "/usr/local/lib/python3.6/dist-packages/ipykernel_launcher.py:71: SettingWithCopyWarning: \n",
            "A value is trying to be set on a copy of a slice from a DataFrame.\n",
            "Try using .loc[row_indexer,col_indexer] = value instead\n",
            "\n",
            "See the caveats in the documentation: http://pandas.pydata.org/pandas-docs/stable/indexing.html#indexing-view-versus-copy\n"
          ],
          "name": "stderr"
        },
        {
          "output_type": "stream",
          "text": [
            "Ticker EOAN has 156457 records.\n",
            "R2 for EOAN: -3.3865516915701953e+28\n",
            "MSE for EOAN: 0.10686072931959252\n",
            "0.00789978184205284\n",
            "2.0988127889329293\n"
          ],
          "name": "stdout"
        },
        {
          "output_type": "stream",
          "text": [
            "/usr/local/lib/python3.6/dist-packages/ipykernel_launcher.py:71: SettingWithCopyWarning: \n",
            "A value is trying to be set on a copy of a slice from a DataFrame.\n",
            "Try using .loc[row_indexer,col_indexer] = value instead\n",
            "\n",
            "See the caveats in the documentation: http://pandas.pydata.org/pandas-docs/stable/indexing.html#indexing-view-versus-copy\n"
          ],
          "name": "stderr"
        },
        {
          "output_type": "stream",
          "text": [
            "Ticker DTE has 156457 records.\n",
            "R2 for DTE: -4.5513750336262844e+28\n"
          ],
          "name": "stdout"
        },
        {
          "output_type": "stream",
          "text": [
            "/usr/local/lib/python3.6/dist-packages/ipykernel_launcher.py:71: SettingWithCopyWarning: \n",
            "A value is trying to be set on a copy of a slice from a DataFrame.\n",
            "Try using .loc[row_indexer,col_indexer] = value instead\n",
            "\n",
            "See the caveats in the documentation: http://pandas.pydata.org/pandas-docs/stable/indexing.html#indexing-view-versus-copy\n"
          ],
          "name": "stderr"
        },
        {
          "output_type": "stream",
          "text": [
            "MSE for DTE: 0.574464292644279\n",
            "0.03823670089695192\n",
            "2.6732770815772082\n",
            "Ticker CBK has 156457 records.\n",
            "R2 for CBK: -3.845726374887577e+29\n",
            "MSE for CBK: 1.2134972757304536\n",
            "0.07506596467014356\n",
            "3.8867743573076616\n"
          ],
          "name": "stdout"
        },
        {
          "output_type": "stream",
          "text": [
            "/usr/local/lib/python3.6/dist-packages/ipykernel_launcher.py:71: SettingWithCopyWarning: \n",
            "A value is trying to be set on a copy of a slice from a DataFrame.\n",
            "Try using .loc[row_indexer,col_indexer] = value instead\n",
            "\n",
            "See the caveats in the documentation: http://pandas.pydata.org/pandas-docs/stable/indexing.html#indexing-view-versus-copy\n"
          ],
          "name": "stderr"
        },
        {
          "output_type": "stream",
          "text": [
            "Ticker RWE has 156457 records.\n",
            "R2 for RWE: 0.0\n",
            "MSE for RWE: 1.8506988123787709\n",
            "0.060836537229484774\n",
            "5.7374731696864325\n"
          ],
          "name": "stdout"
        },
        {
          "output_type": "stream",
          "text": [
            "/usr/local/lib/python3.6/dist-packages/ipykernel_launcher.py:71: SettingWithCopyWarning: \n",
            "A value is trying to be set on a copy of a slice from a DataFrame.\n",
            "Try using .loc[row_indexer,col_indexer] = value instead\n",
            "\n",
            "See the caveats in the documentation: http://pandas.pydata.org/pandas-docs/stable/indexing.html#indexing-view-versus-copy\n"
          ],
          "name": "stderr"
        },
        {
          "output_type": "stream",
          "text": [
            "Ticker IFX has 156457 records.\n",
            "R2 for IFX: 0.0\n",
            "MSE for IFX: 0.08132192999360452\n",
            "0.0024358362577404217\n",
            "5.818795099680037\n"
          ],
          "name": "stdout"
        },
        {
          "output_type": "stream",
          "text": [
            "/usr/local/lib/python3.6/dist-packages/ipykernel_launcher.py:71: SettingWithCopyWarning: \n",
            "A value is trying to be set on a copy of a slice from a DataFrame.\n",
            "Try using .loc[row_indexer,col_indexer] = value instead\n",
            "\n",
            "See the caveats in the documentation: http://pandas.pydata.org/pandas-docs/stable/indexing.html#indexing-view-versus-copy\n"
          ],
          "name": "stderr"
        },
        {
          "output_type": "stream",
          "text": [
            "Ticker SVAB has 156446 records.\n",
            "R2 for SVAB: -8.293106375676563e+29\n",
            "MSE for SVAB: 0.0006388776760361677\n",
            "1.511321134639098e-05\n",
            "5.8194339773560735\n"
          ],
          "name": "stdout"
        },
        {
          "output_type": "stream",
          "text": [
            "/usr/local/lib/python3.6/dist-packages/ipykernel_launcher.py:71: SettingWithCopyWarning: \n",
            "A value is trying to be set on a copy of a slice from a DataFrame.\n",
            "Try using .loc[row_indexer,col_indexer] = value instead\n",
            "\n",
            "See the caveats in the documentation: http://pandas.pydata.org/pandas-docs/stable/indexing.html#indexing-view-versus-copy\n"
          ],
          "name": "stderr"
        },
        {
          "output_type": "stream",
          "text": [
            "Ticker LHA has 156457 records.\n",
            "R2 for LHA: -3.448075897398872e+29\n"
          ],
          "name": "stdout"
        },
        {
          "output_type": "stream",
          "text": [
            "/usr/local/lib/python3.6/dist-packages/ipykernel_launcher.py:71: SettingWithCopyWarning: \n",
            "A value is trying to be set on a copy of a slice from a DataFrame.\n",
            "Try using .loc[row_indexer,col_indexer] = value instead\n",
            "\n",
            "See the caveats in the documentation: http://pandas.pydata.org/pandas-docs/stable/indexing.html#indexing-view-versus-copy\n"
          ],
          "name": "stderr"
        },
        {
          "output_type": "stream",
          "text": [
            "MSE for LHA: 17.40833455163409\n",
            "0.4054906190085177\n",
            "23.227768528990165\n",
            "Ticker DAI has 156457 records.\n",
            "R2 for DAI: -7.723523663997662e+28\n",
            "MSE for DAI: 15.59753182483738\n",
            "0.299653961373942\n",
            "38.825300353827544\n"
          ],
          "name": "stdout"
        },
        {
          "output_type": "stream",
          "text": [
            "/usr/local/lib/python3.6/dist-packages/ipykernel_launcher.py:71: SettingWithCopyWarning: \n",
            "A value is trying to be set on a copy of a slice from a DataFrame.\n",
            "Try using .loc[row_indexer,col_indexer] = value instead\n",
            "\n",
            "See the caveats in the documentation: http://pandas.pydata.org/pandas-docs/stable/indexing.html#indexing-view-versus-copy\n"
          ],
          "name": "stderr"
        },
        {
          "output_type": "stream",
          "text": [
            "Ticker O2D has 156455 records.\n",
            "R2 for O2D: 0.0\n",
            "MSE for O2D: 0.02243940118568685\n",
            "0.0003705565113939674\n",
            "38.84773975501323\n"
          ],
          "name": "stdout"
        },
        {
          "output_type": "stream",
          "text": [
            "/usr/local/lib/python3.6/dist-packages/ipykernel_launcher.py:71: SettingWithCopyWarning: \n",
            "A value is trying to be set on a copy of a slice from a DataFrame.\n",
            "Try using .loc[row_indexer,col_indexer] = value instead\n",
            "\n",
            "See the caveats in the documentation: http://pandas.pydata.org/pandas-docs/stable/indexing.html#indexing-view-versus-copy\n"
          ],
          "name": "stderr"
        },
        {
          "output_type": "stream",
          "text": [
            "Ticker TKA has 156457 records.\n",
            "R2 for TKA: -9.134450043022508e+25\n",
            "MSE for TKA: 0.004611718738966301\n",
            "7.3649326932259e-05"
          ],
          "name": "stdout"
        },
        {
          "output_type": "stream",
          "text": [
            "/usr/local/lib/python3.6/dist-packages/ipykernel_launcher.py:71: SettingWithCopyWarning: \n",
            "A value is trying to be set on a copy of a slice from a DataFrame.\n",
            "Try using .loc[row_indexer,col_indexer] = value instead\n",
            "\n",
            "See the caveats in the documentation: http://pandas.pydata.org/pandas-docs/stable/indexing.html#indexing-view-versus-copy\n"
          ],
          "name": "stderr"
        },
        {
          "output_type": "stream",
          "text": [
            "\n",
            "38.852351473752194\n",
            "Ticker DPW has 156457 records.\n",
            "R2 for DPW: -3.7478888161581295e+29\n",
            "MSE for DPW: 18.922002970766133\n",
            "0.2878622072536736\n",
            "57.77435444451832\n"
          ],
          "name": "stdout"
        },
        {
          "output_type": "stream",
          "text": [
            "/usr/local/lib/python3.6/dist-packages/ipykernel_launcher.py:71: SettingWithCopyWarning: \n",
            "A value is trying to be set on a copy of a slice from a DataFrame.\n",
            "Try using .loc[row_indexer,col_indexer] = value instead\n",
            "\n",
            "See the caveats in the documentation: http://pandas.pydata.org/pandas-docs/stable/indexing.html#indexing-view-versus-copy\n"
          ],
          "name": "stderr"
        },
        {
          "output_type": "stream",
          "text": [
            "Ticker SIE has 156457 records.\n",
            "R2 for SIE: -2.8153643220184766e+29\n",
            "MSE for SIE: 56.85582969841755\n",
            "0.7371640800971035\n",
            "114.63018414293587\n"
          ],
          "name": "stdout"
        },
        {
          "output_type": "stream",
          "text": [
            "/usr/local/lib/python3.6/dist-packages/ipykernel_launcher.py:71: SettingWithCopyWarning: \n",
            "A value is trying to be set on a copy of a slice from a DataFrame.\n",
            "Try using .loc[row_indexer,col_indexer] = value instead\n",
            "\n",
            "See the caveats in the documentation: http://pandas.pydata.org/pandas-docs/stable/indexing.html#indexing-view-versus-copy\n"
          ],
          "name": "stderr"
        },
        {
          "output_type": "stream",
          "text": [
            "Ticker HDD has 156457 records.\n",
            "R2 for HDD: 0.0\n",
            "MSE for HDD: 0.025517068564903534\n",
            "0.00033032930568234286\n",
            "114.65570121150078\n"
          ],
          "name": "stdout"
        },
        {
          "output_type": "stream",
          "text": [
            "/usr/local/lib/python3.6/dist-packages/ipykernel_launcher.py:71: SettingWithCopyWarning: \n",
            "A value is trying to be set on a copy of a slice from a DataFrame.\n",
            "Try using .loc[row_indexer,col_indexer] = value instead\n",
            "\n",
            "See the caveats in the documentation: http://pandas.pydata.org/pandas-docs/stable/indexing.html#indexing-view-versus-copy\n"
          ],
          "name": "stderr"
        },
        {
          "output_type": "stream",
          "text": [
            "Ticker BAYN has 156457 records.\n",
            "R2 for BAYN: 0.0\n"
          ],
          "name": "stdout"
        },
        {
          "output_type": "stream",
          "text": [
            "/usr/local/lib/python3.6/dist-packages/ipykernel_launcher.py:71: SettingWithCopyWarning: \n",
            "A value is trying to be set on a copy of a slice from a DataFrame.\n",
            "Try using .loc[row_indexer,col_indexer] = value instead\n",
            "\n",
            "See the caveats in the documentation: http://pandas.pydata.org/pandas-docs/stable/indexing.html#indexing-view-versus-copy\n"
          ],
          "name": "stderr"
        },
        {
          "output_type": "stream",
          "text": [
            "MSE for BAYN: 30.59970569863533\n",
            "0.3854864912496904\n",
            "145.25540691013612\n",
            "Ticker AIXA has 156457 records.\n",
            "R2 for AIXA: -7.440422697731843e+29\n",
            "MSE for AIXA: 9.391133735295528\n",
            "0.11629139883876803\n"
          ],
          "name": "stdout"
        },
        {
          "output_type": "stream",
          "text": [
            "/usr/local/lib/python3.6/dist-packages/ipykernel_launcher.py:71: SettingWithCopyWarning: \n",
            "A value is trying to be set on a copy of a slice from a DataFrame.\n",
            "Try using .loc[row_indexer,col_indexer] = value instead\n",
            "\n",
            "See the caveats in the documentation: http://pandas.pydata.org/pandas-docs/stable/indexing.html#indexing-view-versus-copy\n"
          ],
          "name": "stderr"
        },
        {
          "output_type": "stream",
          "text": [
            "154.64654064543166\n",
            "Ticker SAP has 156457 records.\n",
            "R2 for SAP: -1.9012639741437278e+29\n",
            "MSE for SAP: 38.39572018450226\n",
            "0.47194819177168273\n",
            "193.04226082993392\n"
          ],
          "name": "stdout"
        },
        {
          "output_type": "stream",
          "text": [
            "/usr/local/lib/python3.6/dist-packages/ipykernel_launcher.py:71: SettingWithCopyWarning: \n",
            "A value is trying to be set on a copy of a slice from a DataFrame.\n",
            "Try using .loc[row_indexer,col_indexer] = value instead\n",
            "\n",
            "See the caveats in the documentation: http://pandas.pydata.org/pandas-docs/stable/indexing.html#indexing-view-versus-copy\n"
          ],
          "name": "stderr"
        },
        {
          "output_type": "stream",
          "text": [
            "Ticker BAS has 156457 records.\n",
            "R2 for BAS: -4.3883023923414114e+27\n",
            "MSE for BAS: 3.544842442348521\n",
            "0.042908343292126096\n",
            "196.58710327228243\n"
          ],
          "name": "stdout"
        },
        {
          "output_type": "stream",
          "text": [
            "/usr/local/lib/python3.6/dist-packages/ipykernel_launcher.py:71: SettingWithCopyWarning: \n",
            "A value is trying to be set on a copy of a slice from a DataFrame.\n",
            "Try using .loc[row_indexer,col_indexer] = value instead\n",
            "\n",
            "See the caveats in the documentation: http://pandas.pydata.org/pandas-docs/stable/indexing.html#indexing-view-versus-copy\n"
          ],
          "name": "stderr"
        },
        {
          "output_type": "stream",
          "text": [
            "Ticker EVT has 156457 records.\n",
            "R2 for EVT: -9.119418714902985e+29\n",
            "MSE for EVT: 2.877581161011122\n",
            "0.03279857972338303\n",
            "199.46468443329354\n"
          ],
          "name": "stdout"
        },
        {
          "output_type": "stream",
          "text": [
            "/usr/local/lib/python3.6/dist-packages/ipykernel_launcher.py:71: SettingWithCopyWarning: \n",
            "A value is trying to be set on a copy of a slice from a DataFrame.\n",
            "Try using .loc[row_indexer,col_indexer] = value instead\n",
            "\n",
            "See the caveats in the documentation: http://pandas.pydata.org/pandas-docs/stable/indexing.html#indexing-view-versus-copy\n"
          ],
          "name": "stderr"
        },
        {
          "output_type": "stream",
          "text": [
            "Ticker AT1 has 156391 records.\n",
            "R2 for AT1: -2.2838752996447994e+25\n",
            "MSE for AT1: 1.801659936289706e-05\n",
            "2.0476281386059548e-07\n",
            "199.4647024498929\n"
          ],
          "name": "stdout"
        },
        {
          "output_type": "stream",
          "text": [
            "/usr/local/lib/python3.6/dist-packages/ipykernel_launcher.py:71: SettingWithCopyWarning: \n",
            "A value is trying to be set on a copy of a slice from a DataFrame.\n",
            "Try using .loc[row_indexer,col_indexer] = value instead\n",
            "\n",
            "See the caveats in the documentation: http://pandas.pydata.org/pandas-docs/stable/indexing.html#indexing-view-versus-copy\n"
          ],
          "name": "stderr"
        },
        {
          "output_type": "stream",
          "text": [
            "Ticker PSM has 156457 records.\n",
            "R2 for PSM: -6.699227941002915e+28\n",
            "MSE for PSM: 3.382245771405731\n",
            "0.03448186080430634\n",
            "202.84694822129865"
          ],
          "name": "stdout"
        },
        {
          "output_type": "stream",
          "text": [
            "/usr/local/lib/python3.6/dist-packages/ipykernel_launcher.py:71: SettingWithCopyWarning: \n",
            "A value is trying to be set on a copy of a slice from a DataFrame.\n",
            "Try using .loc[row_indexer,col_indexer] = value instead\n",
            "\n",
            "See the caveats in the documentation: http://pandas.pydata.org/pandas-docs/stable/indexing.html#indexing-view-versus-copy\n"
          ],
          "name": "stderr"
        },
        {
          "output_type": "stream",
          "text": [
            "\n",
            "Ticker BMW has 156457 records.\n",
            "R2 for BMW: -1.1696699724265208e+27\n"
          ],
          "name": "stdout"
        },
        {
          "output_type": "stream",
          "text": [
            "/usr/local/lib/python3.6/dist-packages/ipykernel_launcher.py:71: SettingWithCopyWarning: \n",
            "A value is trying to be set on a copy of a slice from a DataFrame.\n",
            "Try using .loc[row_indexer,col_indexer] = value instead\n",
            "\n",
            "See the caveats in the documentation: http://pandas.pydata.org/pandas-docs/stable/indexing.html#indexing-view-versus-copy\n"
          ],
          "name": "stderr"
        },
        {
          "output_type": "stream",
          "text": [
            "MSE for BMW: 0.9448518791764184\n",
            "0.00889906249956163\n",
            "203.79180010047506\n",
            "Ticker VOW3 has 156457 records.\n",
            "R2 for VOW3: -4.975287327489348e+28\n",
            "MSE for VOW3: 40.190050968554246\n",
            "0.32660657594524856\n",
            "243.9818510690293\n"
          ],
          "name": "stdout"
        },
        {
          "output_type": "stream",
          "text": [
            "/usr/local/lib/python3.6/dist-packages/ipykernel_launcher.py:71: SettingWithCopyWarning: \n",
            "A value is trying to be set on a copy of a slice from a DataFrame.\n",
            "Try using .loc[row_indexer,col_indexer] = value instead\n",
            "\n",
            "See the caveats in the documentation: http://pandas.pydata.org/pandas-docs/stable/indexing.html#indexing-view-versus-copy\n"
          ],
          "name": "stderr"
        },
        {
          "output_type": "stream",
          "text": [
            "Ticker FRE has 156457 records.\n",
            "R2 for FRE: -1.2703339309551275e+29\n",
            "MSE for FRE: 25.65418943247944"
          ],
          "name": "stdout"
        },
        {
          "output_type": "stream",
          "text": [
            "/usr/local/lib/python3.6/dist-packages/ipykernel_launcher.py:71: SettingWithCopyWarning: \n",
            "A value is trying to be set on a copy of a slice from a DataFrame.\n",
            "Try using .loc[row_indexer,col_indexer] = value instead\n",
            "\n",
            "See the caveats in the documentation: http://pandas.pydata.org/pandas-docs/stable/indexing.html#indexing-view-versus-copy\n"
          ],
          "name": "stderr"
        },
        {
          "output_type": "stream",
          "text": [
            "\n",
            "0.19931231510149922\n",
            "269.6360405015087\n",
            "Ticker SDF has 156456 records.\n",
            "R2 for SDF: -1.5739844859981699e+29\n",
            "MSE for SDF: 7.94659088914141\n",
            "0.05733012177590783\n",
            "277.58263139065014\n"
          ],
          "name": "stdout"
        },
        {
          "output_type": "stream",
          "text": [
            "/usr/local/lib/python3.6/dist-packages/ipykernel_launcher.py:71: SettingWithCopyWarning: \n",
            "A value is trying to be set on a copy of a slice from a DataFrame.\n",
            "Try using .loc[row_indexer,col_indexer] = value instead\n",
            "\n",
            "See the caveats in the documentation: http://pandas.pydata.org/pandas-docs/stable/indexing.html#indexing-view-versus-copy\n"
          ],
          "name": "stderr"
        },
        {
          "output_type": "stream",
          "text": [
            "Ticker ALV has 156457 records.\n",
            "R2 for ALV: -2.616606010189395e+28\n",
            "MSE for ALV: 21.136775022640602\n",
            "0.14732100081568245\n",
            "298.71940641329076\n"
          ],
          "name": "stdout"
        },
        {
          "output_type": "stream",
          "text": [
            "/usr/local/lib/python3.6/dist-packages/ipykernel_launcher.py:71: SettingWithCopyWarning: \n",
            "A value is trying to be set on a copy of a slice from a DataFrame.\n",
            "Try using .loc[row_indexer,col_indexer] = value instead\n",
            "\n",
            "See the caveats in the documentation: http://pandas.pydata.org/pandas-docs/stable/indexing.html#indexing-view-versus-copy\n"
          ],
          "name": "stderr"
        },
        {
          "output_type": "stream",
          "text": [
            "Ticker CEC has 150688 records.\n",
            "R2 for CEC: -8.905194167910699e+29\n",
            "MSE for CEC: 2.8099838129867636\n",
            "0.019554624831584492\n",
            "301.52939022627754\n"
          ],
          "name": "stdout"
        },
        {
          "output_type": "stream",
          "text": [
            "/usr/local/lib/python3.6/dist-packages/ipykernel_launcher.py:71: SettingWithCopyWarning: \n",
            "A value is trying to be set on a copy of a slice from a DataFrame.\n",
            "Try using .loc[row_indexer,col_indexer] = value instead\n",
            "\n",
            "See the caveats in the documentation: http://pandas.pydata.org/pandas-docs/stable/indexing.html#indexing-view-versus-copy\n"
          ],
          "name": "stderr"
        },
        {
          "output_type": "stream",
          "text": [
            "Ticker GAZ has 156457 records.\n",
            "R2 for GAZ: -3.979261640221267e+28\n",
            "MSE for GAZ: 0.007847709849040492\n",
            "5.4425920350752174e-05\n",
            "301.5372379361266\n"
          ],
          "name": "stdout"
        },
        {
          "output_type": "stream",
          "text": [
            "/usr/local/lib/python3.6/dist-packages/ipykernel_launcher.py:71: SettingWithCopyWarning: \n",
            "A value is trying to be set on a copy of a slice from a DataFrame.\n",
            "Try using .loc[row_indexer,col_indexer] = value instead\n",
            "\n",
            "See the caveats in the documentation: http://pandas.pydata.org/pandas-docs/stable/indexing.html#indexing-view-versus-copy\n"
          ],
          "name": "stderr"
        },
        {
          "output_type": "stream",
          "text": [
            "Ticker VNA has 156457 records.\n",
            "R2 for VNA: -1.6118372433561515e+28\n",
            "MSE for VNA: 3.2550793903689574\n",
            "0.022321076457380556\n",
            "304.79231732649555\n"
          ],
          "name": "stdout"
        },
        {
          "output_type": "stream",
          "text": [
            "/usr/local/lib/python3.6/dist-packages/ipykernel_launcher.py:71: SettingWithCopyWarning: \n",
            "A value is trying to be set on a copy of a slice from a DataFrame.\n",
            "Try using .loc[row_indexer,col_indexer] = value instead\n",
            "\n",
            "See the caveats in the documentation: http://pandas.pydata.org/pandas-docs/stable/indexing.html#indexing-view-versus-copy\n"
          ],
          "name": "stderr"
        },
        {
          "output_type": "stream",
          "text": [
            "Ticker B4B has 150689 records.\n",
            "R2 for B4B: -2.7771354543208417e+30\n"
          ],
          "name": "stdout"
        },
        {
          "output_type": "stream",
          "text": [
            "/usr/local/lib/python3.6/dist-packages/ipykernel_launcher.py:71: SettingWithCopyWarning: \n",
            "A value is trying to be set on a copy of a slice from a DataFrame.\n",
            "Try using .loc[row_indexer,col_indexer] = value instead\n",
            "\n",
            "See the caveats in the documentation: http://pandas.pydata.org/pandas-docs/stable/indexing.html#indexing-view-versus-copy\n"
          ],
          "name": "stderr"
        },
        {
          "output_type": "stream",
          "text": [
            "MSE for B4B: 8.76309435366762\n",
            "0.054225728840504354\n",
            "313.55541168016316\n",
            "Ticker SHA has 156457 records.\n",
            "R2 for SHA: -2.3072198413503846e+28\n",
            "MSE for SHA: 0.291212085214647\n",
            "0.0017689248169003061\n",
            "313.8466237653778\n"
          ],
          "name": "stdout"
        },
        {
          "output_type": "stream",
          "text": [
            "/usr/local/lib/python3.6/dist-packages/ipykernel_launcher.py:71: SettingWithCopyWarning: \n",
            "A value is trying to be set on a copy of a slice from a DataFrame.\n",
            "Try using .loc[row_indexer,col_indexer] = value instead\n",
            "\n",
            "See the caveats in the documentation: http://pandas.pydata.org/pandas-docs/stable/indexing.html#indexing-view-versus-copy\n"
          ],
          "name": "stderr"
        },
        {
          "output_type": "stream",
          "text": [
            "Ticker AB1 has 156441 records.\n",
            "R2 for AB1: -2.2336277569238296e+32\n",
            "MSE for AB1: 0.043018105816740974\n",
            "0.00021603614013243077\n",
            "313.8896418711945\n"
          ],
          "name": "stdout"
        },
        {
          "output_type": "stream",
          "text": [
            "/usr/local/lib/python3.6/dist-packages/ipykernel_launcher.py:71: SettingWithCopyWarning: \n",
            "A value is trying to be set on a copy of a slice from a DataFrame.\n",
            "Try using .loc[row_indexer,col_indexer] = value instead\n",
            "\n",
            "See the caveats in the documentation: http://pandas.pydata.org/pandas-docs/stable/indexing.html#indexing-view-versus-copy\n"
          ],
          "name": "stderr"
        },
        {
          "output_type": "stream",
          "text": [
            "Ticker DLG has 156457 records.\n",
            "R2 for DLG: -4.766529327273728e+28\n",
            "MSE for DLG: 0.6016205823801045\n",
            "0.0029890357715802725\n",
            "314.4912624535746\n"
          ],
          "name": "stdout"
        },
        {
          "output_type": "stream",
          "text": [
            "/usr/local/lib/python3.6/dist-packages/ipykernel_launcher.py:71: SettingWithCopyWarning: \n",
            "A value is trying to be set on a copy of a slice from a DataFrame.\n",
            "Try using .loc[row_indexer,col_indexer] = value instead\n",
            "\n",
            "See the caveats in the documentation: http://pandas.pydata.org/pandas-docs/stable/indexing.html#indexing-view-versus-copy\n"
          ],
          "name": "stderr"
        },
        {
          "output_type": "stream",
          "text": [
            "Ticker NDX1 has 156457 records.\n",
            "R2 for NDX1: -4.07804258147685e+29\n",
            "MSE for NDX1: 1.286803344941464\n",
            "0.006230874645153614\n",
            "315.7780657985161\n"
          ],
          "name": "stdout"
        },
        {
          "output_type": "stream",
          "text": [
            "/usr/local/lib/python3.6/dist-packages/ipykernel_launcher.py:71: SettingWithCopyWarning: \n",
            "A value is trying to be set on a copy of a slice from a DataFrame.\n",
            "Try using .loc[row_indexer,col_indexer] = value instead\n",
            "\n",
            "See the caveats in the documentation: http://pandas.pydata.org/pandas-docs/stable/indexing.html#indexing-view-versus-copy\n"
          ],
          "name": "stderr"
        },
        {
          "output_type": "stream",
          "text": [
            "Ticker UN01 has 156457 records.\n",
            "R2 for UN01: -2.1454410851439456e+26\n",
            "MSE for UN01: 0.024371346189960043\n",
            "0.00011699416729777187\n",
            "315.80243714470606\n"
          ],
          "name": "stdout"
        },
        {
          "output_type": "stream",
          "text": [
            "/usr/local/lib/python3.6/dist-packages/ipykernel_launcher.py:71: SettingWithCopyWarning: \n",
            "A value is trying to be set on a copy of a slice from a DataFrame.\n",
            "Try using .loc[row_indexer,col_indexer] = value instead\n",
            "\n",
            "See the caveats in the documentation: http://pandas.pydata.org/pandas-docs/stable/indexing.html#indexing-view-versus-copy\n"
          ],
          "name": "stderr"
        },
        {
          "output_type": "stream",
          "text": [
            "Ticker NOA3 has 156455 records.\n",
            "R2 for NOA3: 0.0\n",
            "MSE for NOA3: 0.9584193969999046\n",
            "0.004557373181570506\n",
            "316.76085654170595\n"
          ],
          "name": "stdout"
        },
        {
          "output_type": "stream",
          "text": [
            "/usr/local/lib/python3.6/dist-packages/ipykernel_launcher.py:71: SettingWithCopyWarning: \n",
            "A value is trying to be set on a copy of a slice from a DataFrame.\n",
            "Try using .loc[row_indexer,col_indexer] = value instead\n",
            "\n",
            "See the caveats in the documentation: http://pandas.pydata.org/pandas-docs/stable/indexing.html#indexing-view-versus-copy\n"
          ],
          "name": "stderr"
        },
        {
          "output_type": "stream",
          "text": [
            "Ticker IGY has 156454 records.\n",
            "R2 for IGY: -1.8047544871133842e+28\n",
            "MSE for IGY: 0.9111681653798062\n",
            "0.004039133077687961\n",
            "317.67202470708577\n"
          ],
          "name": "stdout"
        },
        {
          "output_type": "stream",
          "text": [
            "/usr/local/lib/python3.6/dist-packages/ipykernel_launcher.py:71: SettingWithCopyWarning: \n",
            "A value is trying to be set on a copy of a slice from a DataFrame.\n",
            "Try using .loc[row_indexer,col_indexer] = value instead\n",
            "\n",
            "See the caveats in the documentation: http://pandas.pydata.org/pandas-docs/stable/indexing.html#indexing-view-versus-copy\n"
          ],
          "name": "stderr"
        },
        {
          "output_type": "stream",
          "text": [
            "Ticker ADS has 156457 records.\n",
            "R2 for ADS: -4.151064790073106e+26\n",
            "MSE for ADS: 0.3353203433398415\n",
            "0.0014794153604031596\n",
            "318.0073450504256\n"
          ],
          "name": "stdout"
        },
        {
          "output_type": "stream",
          "text": [
            "/usr/local/lib/python3.6/dist-packages/ipykernel_launcher.py:71: SettingWithCopyWarning: \n",
            "A value is trying to be set on a copy of a slice from a DataFrame.\n",
            "Try using .loc[row_indexer,col_indexer] = value instead\n",
            "\n",
            "See the caveats in the documentation: http://pandas.pydata.org/pandas-docs/stable/indexing.html#indexing-view-versus-copy\n"
          ],
          "name": "stderr"
        },
        {
          "output_type": "stream",
          "text": [
            "Ticker VODI has 156457 records.\n",
            "R2 for VODI: -7.22364389617574e+28\n",
            "MSE for VODI: 0.014246125657328577\n",
            "6.20239264528123e-05\n",
            "318.02159117608295\n"
          ],
          "name": "stdout"
        },
        {
          "output_type": "stream",
          "text": [
            "/usr/local/lib/python3.6/dist-packages/ipykernel_launcher.py:71: SettingWithCopyWarning: \n",
            "A value is trying to be set on a copy of a slice from a DataFrame.\n",
            "Try using .loc[row_indexer,col_indexer] = value instead\n",
            "\n",
            "See the caveats in the documentation: http://pandas.pydata.org/pandas-docs/stable/indexing.html#indexing-view-versus-copy\n"
          ],
          "name": "stderr"
        },
        {
          "output_type": "stream",
          "text": [
            "Ticker 1COV has 156457 records.\n",
            "R2 for 1COV: -7.129582559275398e+29\n",
            "MSE for 1COV: 143.98077315988297\n",
            "0.6059937768537317\n",
            "462.0023643359659\n"
          ],
          "name": "stdout"
        },
        {
          "output_type": "stream",
          "text": [
            "/usr/local/lib/python3.6/dist-packages/ipykernel_launcher.py:71: SettingWithCopyWarning: \n",
            "A value is trying to be set on a copy of a slice from a DataFrame.\n",
            "Try using .loc[row_indexer,col_indexer] = value instead\n",
            "\n",
            "See the caveats in the documentation: http://pandas.pydata.org/pandas-docs/stable/indexing.html#indexing-view-versus-copy\n"
          ],
          "name": "stderr"
        },
        {
          "output_type": "stream",
          "text": [
            "Ticker TUI1 has 156457 records.\n",
            "R2 for TUI1: 0.0\n",
            "MSE for TUI1: 0.9951463209472687\n",
            "0.0038946454194180393\n",
            "462.99751065691316\n"
          ],
          "name": "stdout"
        },
        {
          "output_type": "stream",
          "text": [
            "/usr/local/lib/python3.6/dist-packages/ipykernel_launcher.py:71: SettingWithCopyWarning: \n",
            "A value is trying to be set on a copy of a slice from a DataFrame.\n",
            "Try using .loc[row_indexer,col_indexer] = value instead\n",
            "\n",
            "See the caveats in the documentation: http://pandas.pydata.org/pandas-docs/stable/indexing.html#indexing-view-versus-copy\n"
          ],
          "name": "stderr"
        },
        {
          "output_type": "stream",
          "text": [
            "Ticker BPE5 has 156457 records.\n",
            "R2 for BPE5: -1.271938849498858e+29\n",
            "MSE for BPE5: 0.40135313288057656\n",
            "0.0015380147938563332\n",
            "463.3988637897937"
          ],
          "name": "stdout"
        },
        {
          "output_type": "stream",
          "text": [
            "/usr/local/lib/python3.6/dist-packages/ipykernel_launcher.py:71: SettingWithCopyWarning: \n",
            "A value is trying to be set on a copy of a slice from a DataFrame.\n",
            "Try using .loc[row_indexer,col_indexer] = value instead\n",
            "\n",
            "See the caveats in the documentation: http://pandas.pydata.org/pandas-docs/stable/indexing.html#indexing-view-versus-copy\n"
          ],
          "name": "stderr"
        },
        {
          "output_type": "stream",
          "text": [
            "\n",
            "Ticker HEI has 156457 records.\n",
            "R2 for HEI: -9.343272735048425e+28\n",
            "MSE for HEI: 18.868589023992573\n",
            "0.07153415938435594\n",
            "482.2674528137863\n"
          ],
          "name": "stdout"
        },
        {
          "output_type": "stream",
          "text": [
            "/usr/local/lib/python3.6/dist-packages/ipykernel_launcher.py:71: SettingWithCopyWarning: \n",
            "A value is trying to be set on a copy of a slice from a DataFrame.\n",
            "Try using .loc[row_indexer,col_indexer] = value instead\n",
            "\n",
            "See the caveats in the documentation: http://pandas.pydata.org/pandas-docs/stable/indexing.html#indexing-view-versus-copy\n"
          ],
          "name": "stderr"
        },
        {
          "output_type": "stream",
          "text": [
            "Ticker USE has 156311 records.\n",
            "R2 for USE: -2.862186168391333e+30\n",
            "MSE for USE: 7.751770380162894e-05\n",
            "2.901362806894585e-07\n",
            "482.2675303314901\n"
          ],
          "name": "stdout"
        },
        {
          "output_type": "stream",
          "text": [
            "/usr/local/lib/python3.6/dist-packages/ipykernel_launcher.py:71: SettingWithCopyWarning: \n",
            "A value is trying to be set on a copy of a slice from a DataFrame.\n",
            "Try using .loc[row_indexer,col_indexer] = value instead\n",
            "\n",
            "See the caveats in the documentation: http://pandas.pydata.org/pandas-docs/stable/indexing.html#indexing-view-versus-copy\n"
          ],
          "name": "stderr"
        },
        {
          "output_type": "stream",
          "text": [
            "Ticker KCO has 156456 records.\n",
            "R2 for KCO: -5.369332755053167e+28\n",
            "MSE for KCO: 0.16942626790336282\n",
            "0.0006144401310065291"
          ],
          "name": "stdout"
        },
        {
          "output_type": "stream",
          "text": [
            "/usr/local/lib/python3.6/dist-packages/ipykernel_launcher.py:71: SettingWithCopyWarning: \n",
            "A value is trying to be set on a copy of a slice from a DataFrame.\n",
            "Try using .loc[row_indexer,col_indexer] = value instead\n",
            "\n",
            "See the caveats in the documentation: http://pandas.pydata.org/pandas-docs/stable/indexing.html#indexing-view-versus-copy\n"
          ],
          "name": "stderr"
        },
        {
          "output_type": "stream",
          "text": [
            "\n",
            "482.43695659939345\n",
            "Ticker SZU has 156457 records.\n",
            "R2 for SZU: 0.0\n",
            "MSE for SZU: 0.11231706681277225\n",
            "0.0003966864074454382\n",
            "482.5492736662062\n"
          ],
          "name": "stdout"
        },
        {
          "output_type": "stream",
          "text": [
            "/usr/local/lib/python3.6/dist-packages/ipykernel_launcher.py:71: SettingWithCopyWarning: \n",
            "A value is trying to be set on a copy of a slice from a DataFrame.\n",
            "Try using .loc[row_indexer,col_indexer] = value instead\n",
            "\n",
            "See the caveats in the documentation: http://pandas.pydata.org/pandas-docs/stable/indexing.html#indexing-view-versus-copy\n"
          ],
          "name": "stderr"
        },
        {
          "output_type": "stream",
          "text": [
            "Ticker EVK has 156457 records.\n",
            "R2 for EVK: -5.86568688381051e+27\n",
            "MSE for EVK: 0.6663183933464316\n",
            "0.0023425679070238907\n",
            "483.21559205955265\n"
          ],
          "name": "stdout"
        },
        {
          "output_type": "stream",
          "text": [
            "/usr/local/lib/python3.6/dist-packages/ipykernel_launcher.py:71: SettingWithCopyWarning: \n",
            "A value is trying to be set on a copy of a slice from a DataFrame.\n",
            "Try using .loc[row_indexer,col_indexer] = value instead\n",
            "\n",
            "See the caveats in the documentation: http://pandas.pydata.org/pandas-docs/stable/indexing.html#indexing-view-versus-copy\n"
          ],
          "name": "stderr"
        },
        {
          "output_type": "stream",
          "text": [
            "Ticker ADV has 156454 records.\n",
            "R2 for ADV: -1.144290489675657e+28\n"
          ],
          "name": "stdout"
        },
        {
          "output_type": "stream",
          "text": [
            "/usr/local/lib/python3.6/dist-packages/ipykernel_launcher.py:71: SettingWithCopyWarning: \n",
            "A value is trying to be set on a copy of a slice from a DataFrame.\n",
            "Try using .loc[row_indexer,col_indexer] = value instead\n",
            "\n",
            "See the caveats in the documentation: http://pandas.pydata.org/pandas-docs/stable/indexing.html#indexing-view-versus-copy\n"
          ],
          "name": "stderr"
        },
        {
          "output_type": "stream",
          "text": [
            "MSE for ADV: 0.03610744126085334\n",
            "0.0001265147286646911\n",
            "483.2516995008135\n",
            "Ticker HEN3 has 156457 records.\n",
            "R2 for HEN3: -3.1516376238287676e+25\n",
            "MSE for HEN3: 0.02545872597874852\n",
            "8.898452818313124e-05\n",
            "483.27715822679227\n"
          ],
          "name": "stdout"
        },
        {
          "output_type": "stream",
          "text": [
            "/usr/local/lib/python3.6/dist-packages/ipykernel_launcher.py:71: SettingWithCopyWarning: \n",
            "A value is trying to be set on a copy of a slice from a DataFrame.\n",
            "Try using .loc[row_indexer,col_indexer] = value instead\n",
            "\n",
            "See the caveats in the documentation: http://pandas.pydata.org/pandas-docs/stable/indexing.html#indexing-view-versus-copy\n"
          ],
          "name": "stderr"
        },
        {
          "output_type": "stream",
          "text": [
            "Ticker MUV2 has 156457 records.\n",
            "R2 for MUV2: -1.1359680082025379e+27\n",
            "MSE for MUV2: 3.6705105971313206\n",
            "0.012505298088061596\n",
            "486.9476688239236\n"
          ],
          "name": "stdout"
        },
        {
          "output_type": "stream",
          "text": [
            "/usr/local/lib/python3.6/dist-packages/ipykernel_launcher.py:71: SettingWithCopyWarning: \n",
            "A value is trying to be set on a copy of a slice from a DataFrame.\n",
            "Try using .loc[row_indexer,col_indexer] = value instead\n",
            "\n",
            "See the caveats in the documentation: http://pandas.pydata.org/pandas-docs/stable/indexing.html#indexing-view-versus-copy\n"
          ],
          "name": "stderr"
        },
        {
          "output_type": "stream",
          "text": [
            "Ticker WDI has 156457 records.\n",
            "R2 for WDI: -5.432618107659332e+28\n",
            "MSE for WDI: 98.73976407847375\n",
            "0.3344936308249071\n",
            "585.6874329023974\n"
          ],
          "name": "stdout"
        },
        {
          "output_type": "stream",
          "text": [
            "/usr/local/lib/python3.6/dist-packages/ipykernel_launcher.py:71: SettingWithCopyWarning: \n",
            "A value is trying to be set on a copy of a slice from a DataFrame.\n",
            "Try using .loc[row_indexer,col_indexer] = value instead\n",
            "\n",
            "See the caveats in the documentation: http://pandas.pydata.org/pandas-docs/stable/indexing.html#indexing-view-versus-copy\n"
          ],
          "name": "stderr"
        },
        {
          "output_type": "stream",
          "text": [
            "Ticker DWNI has 156457 records.\n",
            "R2 for DWNI: 0.0\n"
          ],
          "name": "stdout"
        },
        {
          "output_type": "stream",
          "text": [
            "/usr/local/lib/python3.6/dist-packages/ipykernel_launcher.py:71: SettingWithCopyWarning: \n",
            "A value is trying to be set on a copy of a slice from a DataFrame.\n",
            "Try using .loc[row_indexer,col_indexer] = value instead\n",
            "\n",
            "See the caveats in the documentation: http://pandas.pydata.org/pandas-docs/stable/indexing.html#indexing-view-versus-copy\n"
          ],
          "name": "stderr"
        },
        {
          "output_type": "stream",
          "text": [
            "MSE for DWNI: 5.360302338499391\n",
            "0.01754738471976871\n",
            "591.0477352408968\n",
            "Ticker MRK has 156457 records.\n",
            "R2 for MRK: -5.609280615624705e+27\n",
            "MSE for MRK: 1.132785199124577\n",
            "0.0037054211746776534"
          ],
          "name": "stdout"
        },
        {
          "output_type": "stream",
          "text": [
            "/usr/local/lib/python3.6/dist-packages/ipykernel_launcher.py:71: SettingWithCopyWarning: \n",
            "A value is trying to be set on a copy of a slice from a DataFrame.\n",
            "Try using .loc[row_indexer,col_indexer] = value instead\n",
            "\n",
            "See the caveats in the documentation: http://pandas.pydata.org/pandas-docs/stable/indexing.html#indexing-view-versus-copy\n"
          ],
          "name": "stderr"
        },
        {
          "output_type": "stream",
          "text": [
            "\n",
            "592.1805204400214\n",
            "Ticker PAH3 has 156456 records.\n",
            "R2 for PAH3: 0.0\n",
            "MSE for PAH3: 41.32389872728304\n",
            "0.1294479643487572\n",
            "633.5044191673044\n"
          ],
          "name": "stdout"
        },
        {
          "output_type": "stream",
          "text": [
            "/usr/local/lib/python3.6/dist-packages/ipykernel_launcher.py:71: SettingWithCopyWarning: \n",
            "A value is trying to be set on a copy of a slice from a DataFrame.\n",
            "Try using .loc[row_indexer,col_indexer] = value instead\n",
            "\n",
            "See the caveats in the documentation: http://pandas.pydata.org/pandas-docs/stable/indexing.html#indexing-view-versus-copy\n"
          ],
          "name": "stderr"
        },
        {
          "output_type": "stream",
          "text": [
            "Ticker DEZ has 156457 records.\n",
            "R2 for DEZ: 0.0\n",
            "MSE for DEZ: 0.06377595341513831\n",
            "0.0001970965699854602\n",
            "633.5681951207196\n"
          ],
          "name": "stdout"
        },
        {
          "output_type": "stream",
          "text": [
            "/usr/local/lib/python3.6/dist-packages/ipykernel_launcher.py:71: SettingWithCopyWarning: \n",
            "A value is trying to be set on a copy of a slice from a DataFrame.\n",
            "Try using .loc[row_indexer,col_indexer] = value instead\n",
            "\n",
            "See the caveats in the documentation: http://pandas.pydata.org/pandas-docs/stable/indexing.html#indexing-view-versus-copy\n"
          ],
          "name": "stderr"
        },
        {
          "output_type": "stream",
          "text": [
            "Ticker FME has 156456 records.\n",
            "R2 for FME: -5.801745268619537e+27\n",
            "MSE for FME: 1.171653126263022\n",
            "0.003566911684063706\n",
            "634.7398482469825\n"
          ],
          "name": "stdout"
        },
        {
          "output_type": "stream",
          "text": [
            "/usr/local/lib/python3.6/dist-packages/ipykernel_launcher.py:71: SettingWithCopyWarning: \n",
            "A value is trying to be set on a copy of a slice from a DataFrame.\n",
            "Try using .loc[row_indexer,col_indexer] = value instead\n",
            "\n",
            "See the caveats in the documentation: http://pandas.pydata.org/pandas-docs/stable/indexing.html#indexing-view-versus-copy\n"
          ],
          "name": "stderr"
        },
        {
          "output_type": "stream",
          "text": [
            "Ticker FNTN has 156457 records.\n",
            "R2 for FNTN: -4.348902137240109e+28\n",
            "MSE for FNTN: 2.195634481088528\n",
            "0.006621795148363239\n",
            "636.9354827280711\n"
          ],
          "name": "stdout"
        },
        {
          "output_type": "stream",
          "text": [
            "/usr/local/lib/python3.6/dist-packages/ipykernel_launcher.py:71: SettingWithCopyWarning: \n",
            "A value is trying to be set on a copy of a slice from a DataFrame.\n",
            "Try using .loc[row_indexer,col_indexer] = value instead\n",
            "\n",
            "See the caveats in the documentation: http://pandas.pydata.org/pandas-docs/stable/indexing.html#indexing-view-versus-copy\n"
          ],
          "name": "stderr"
        },
        {
          "output_type": "stream",
          "text": [
            "Ticker G1A has 156457 records.\n",
            "R2 for G1A: -3.475174391959354e+29\n",
            "MSE for G1A: 17.545146986508385\n",
            "0.05249930882877275\n",
            "654.4806297145794\n"
          ],
          "name": "stdout"
        },
        {
          "output_type": "stream",
          "text": [
            "/usr/local/lib/python3.6/dist-packages/ipykernel_launcher.py:71: SettingWithCopyWarning: \n",
            "A value is trying to be set on a copy of a slice from a DataFrame.\n",
            "Try using .loc[row_indexer,col_indexer] = value instead\n",
            "\n",
            "See the caveats in the documentation: http://pandas.pydata.org/pandas-docs/stable/indexing.html#indexing-view-versus-copy\n"
          ],
          "name": "stderr"
        },
        {
          "output_type": "stream",
          "text": [
            "Ticker RKET has 156457 records.\n",
            "R2 for RKET: -2.006952130156375e+28\n"
          ],
          "name": "stdout"
        },
        {
          "output_type": "stream",
          "text": [
            "/usr/local/lib/python3.6/dist-packages/ipykernel_launcher.py:71: SettingWithCopyWarning: \n",
            "A value is trying to be set on a copy of a slice from a DataFrame.\n",
            "Try using .loc[row_indexer,col_indexer] = value instead\n",
            "\n",
            "See the caveats in the documentation: http://pandas.pydata.org/pandas-docs/stable/indexing.html#indexing-view-versus-copy\n"
          ],
          "name": "stderr"
        },
        {
          "output_type": "stream",
          "text": [
            "MSE for RKET: 1.0132518874434533\n",
            "0.002960603570538493\n",
            "655.4938816020228\n",
            "Ticker QIA has 156457 records.\n",
            "R2 for QIA: -1.7596259603002386e+29\n",
            "MSE for QIA: 8.883840818514166\n",
            "0.025848367260118223\n"
          ],
          "name": "stdout"
        },
        {
          "output_type": "stream",
          "text": [
            "/usr/local/lib/python3.6/dist-packages/ipykernel_launcher.py:71: SettingWithCopyWarning: \n",
            "A value is trying to be set on a copy of a slice from a DataFrame.\n",
            "Try using .loc[row_indexer,col_indexer] = value instead\n",
            "\n",
            "See the caveats in the documentation: http://pandas.pydata.org/pandas-docs/stable/indexing.html#indexing-view-versus-copy\n"
          ],
          "name": "stderr"
        },
        {
          "output_type": "stream",
          "text": [
            "664.377722420537\n",
            "Ticker DB1 has 156457 records.\n",
            "R2 for DB1: -1.1069573438222418e+28\n",
            "MSE for DB1: 20.119342977530735\n",
            "0.05552929068146723\n",
            "684.4970653980678\n"
          ],
          "name": "stdout"
        },
        {
          "output_type": "stream",
          "text": [
            "/usr/local/lib/python3.6/dist-packages/ipykernel_launcher.py:71: SettingWithCopyWarning: \n",
            "A value is trying to be set on a copy of a slice from a DataFrame.\n",
            "Try using .loc[row_indexer,col_indexer] = value instead\n",
            "\n",
            "See the caveats in the documentation: http://pandas.pydata.org/pandas-docs/stable/indexing.html#indexing-view-versus-copy\n"
          ],
          "name": "stderr"
        },
        {
          "output_type": "stream",
          "text": [
            "Ticker ZAL has 156456 records.\n",
            "R2 for ZAL: -5.242421427377685e+28\n"
          ],
          "name": "stdout"
        },
        {
          "output_type": "stream",
          "text": [
            "/usr/local/lib/python3.6/dist-packages/ipykernel_launcher.py:71: SettingWithCopyWarning: \n",
            "A value is trying to be set on a copy of a slice from a DataFrame.\n",
            "Try using .loc[row_indexer,col_indexer] = value instead\n",
            "\n",
            "See the caveats in the documentation: http://pandas.pydata.org/pandas-docs/stable/indexing.html#indexing-view-versus-copy\n"
          ],
          "name": "stderr"
        },
        {
          "output_type": "stream",
          "text": [
            "MSE for ZAL: 10.586985760643044\n",
            "0.028628406433098757\n",
            "695.0840511587108\n",
            "Ticker RIB has 156451 records.\n",
            "R2 for RIB: -6.549937969810975e+29\n",
            "MSE for RIB: 33.068735974442\n",
            "0.08591145720455334\n",
            "728.1527871331529\n"
          ],
          "name": "stdout"
        },
        {
          "output_type": "stream",
          "text": [
            "/usr/local/lib/python3.6/dist-packages/ipykernel_launcher.py:71: SettingWithCopyWarning: \n",
            "A value is trying to be set on a copy of a slice from a DataFrame.\n",
            "Try using .loc[row_indexer,col_indexer] = value instead\n",
            "\n",
            "See the caveats in the documentation: http://pandas.pydata.org/pandas-docs/stable/indexing.html#indexing-view-versus-copy\n"
          ],
          "name": "stderr"
        },
        {
          "output_type": "stream",
          "text": [
            "Ticker QSC has 156449 records.\n",
            "R2 for QSC: -1.7883112783716897e+29\n"
          ],
          "name": "stdout"
        },
        {
          "output_type": "stream",
          "text": [
            "/usr/local/lib/python3.6/dist-packages/ipykernel_launcher.py:71: SettingWithCopyWarning: \n",
            "A value is trying to be set on a copy of a slice from a DataFrame.\n",
            "Try using .loc[row_indexer,col_indexer] = value instead\n",
            "\n",
            "See the caveats in the documentation: http://pandas.pydata.org/pandas-docs/stable/indexing.html#indexing-view-versus-copy\n"
          ],
          "name": "stderr"
        },
        {
          "output_type": "stream",
          "text": [
            "MSE for QSC: 0.0352682213468309\n",
            "9.146420453560683e-05\n",
            "728.1880553544997\n",
            "Ticker CON has 156457 records.\n",
            "R2 for CON: -2.8646486372709997e+29\n",
            "MSE for CON: 231.40447407490444\n",
            "0.5809389907312985\n",
            "959.5925294294042\n"
          ],
          "name": "stdout"
        },
        {
          "output_type": "stream",
          "text": [
            "/usr/local/lib/python3.6/dist-packages/ipykernel_launcher.py:71: SettingWithCopyWarning: \n",
            "A value is trying to be set on a copy of a slice from a DataFrame.\n",
            "Try using .loc[row_indexer,col_indexer] = value instead\n",
            "\n",
            "See the caveats in the documentation: http://pandas.pydata.org/pandas-docs/stable/indexing.html#indexing-view-versus-copy\n"
          ],
          "name": "stderr"
        },
        {
          "output_type": "stream",
          "text": [
            "Ticker SGL has 156446 records.\n",
            "R2 for SGL: -3.6288558022100325e+29\n",
            "MSE for SGL: 1.1450649892191709\n",
            "0.0028338166780799883\n",
            "960.7375944186233\n"
          ],
          "name": "stdout"
        },
        {
          "output_type": "stream",
          "text": [
            "/usr/local/lib/python3.6/dist-packages/ipykernel_launcher.py:71: SettingWithCopyWarning: \n",
            "A value is trying to be set on a copy of a slice from a DataFrame.\n",
            "Try using .loc[row_indexer,col_indexer] = value instead\n",
            "\n",
            "See the caveats in the documentation: http://pandas.pydata.org/pandas-docs/stable/indexing.html#indexing-view-versus-copy\n"
          ],
          "name": "stderr"
        },
        {
          "output_type": "stream",
          "text": [
            "Ticker BVB has 156455 records.\n",
            "R2 for BVB: -2.4134270608143628e+29\n",
            "MSE for BVB: 0.1903858255878904\n",
            "0.0004619125508724497\n",
            "960.9279802442112\n"
          ],
          "name": "stdout"
        },
        {
          "output_type": "stream",
          "text": [
            "/usr/local/lib/python3.6/dist-packages/ipykernel_launcher.py:71: SettingWithCopyWarning: \n",
            "A value is trying to be set on a copy of a slice from a DataFrame.\n",
            "Try using .loc[row_indexer,col_indexer] = value instead\n",
            "\n",
            "See the caveats in the documentation: http://pandas.pydata.org/pandas-docs/stable/indexing.html#indexing-view-versus-copy\n"
          ],
          "name": "stderr"
        },
        {
          "output_type": "stream",
          "text": [
            "Ticker SHL has 28772 records.\n",
            "R2 for SHL: -1.3781887193354463e+28\n",
            "MSE for SHL: 0.6958074884482222\n",
            "0.0016643525061022352\n",
            "961.6237877326594\n"
          ],
          "name": "stdout"
        },
        {
          "output_type": "stream",
          "text": [
            "/usr/local/lib/python3.6/dist-packages/ipykernel_launcher.py:71: SettingWithCopyWarning: \n",
            "A value is trying to be set on a copy of a slice from a DataFrame.\n",
            "Try using .loc[row_indexer,col_indexer] = value instead\n",
            "\n",
            "See the caveats in the documentation: http://pandas.pydata.org/pandas-docs/stable/indexing.html#indexing-view-versus-copy\n"
          ],
          "name": "stderr"
        },
        {
          "output_type": "stream",
          "text": [
            "Ticker PNE3 has 156436 records.\n",
            "R2 for PNE3: -6.2189469396658735e+29\n",
            "MSE for PNE3: 0.12264710280865655\n",
            "0.00029244598118378527\n",
            "961.746434835468\n"
          ],
          "name": "stdout"
        },
        {
          "output_type": "stream",
          "text": [
            "/usr/local/lib/python3.6/dist-packages/ipykernel_launcher.py:71: SettingWithCopyWarning: \n",
            "A value is trying to be set on a copy of a slice from a DataFrame.\n",
            "Try using .loc[row_indexer,col_indexer] = value instead\n",
            "\n",
            "See the caveats in the documentation: http://pandas.pydata.org/pandas-docs/stable/indexing.html#indexing-view-versus-copy\n"
          ],
          "name": "stderr"
        },
        {
          "output_type": "stream",
          "text": [
            "Ticker PBB has 156453 records.\n",
            "R2 for PBB: 0.0\n",
            "MSE for PBB: 0.44637335112614174\n",
            "0.001055892654727414\n",
            "962.1928081865941\n"
          ],
          "name": "stdout"
        },
        {
          "output_type": "stream",
          "text": [
            "/usr/local/lib/python3.6/dist-packages/ipykernel_launcher.py:71: SettingWithCopyWarning: \n",
            "A value is trying to be set on a copy of a slice from a DataFrame.\n",
            "Try using .loc[row_indexer,col_indexer] = value instead\n",
            "\n",
            "See the caveats in the documentation: http://pandas.pydata.org/pandas-docs/stable/indexing.html#indexing-view-versus-copy\n"
          ],
          "name": "stderr"
        },
        {
          "output_type": "stream",
          "text": [
            "Ticker OSR has 156457 records.\n",
            "R2 for OSR: -1.8470500352702813e+30\n",
            "MSE for OSR: 93.25219601995622\n",
            "0.21892643968742778\n",
            "1055.4450042065503\n"
          ],
          "name": "stdout"
        },
        {
          "output_type": "stream",
          "text": [
            "/usr/local/lib/python3.6/dist-packages/ipykernel_launcher.py:71: SettingWithCopyWarning: \n",
            "A value is trying to be set on a copy of a slice from a DataFrame.\n",
            "Try using .loc[row_indexer,col_indexer] = value instead\n",
            "\n",
            "See the caveats in the documentation: http://pandas.pydata.org/pandas-docs/stable/indexing.html#indexing-view-versus-copy\n"
          ],
          "name": "stderr"
        },
        {
          "output_type": "stream",
          "text": [
            "Ticker TINA has 156443 records.\n",
            "R2 for TINA: -1.8956771148184709e+28\n",
            "MSE for TINA: 0.008411768802013808\n",
            "1.9487757765806807e-05\n",
            "1055.4534159753523\n"
          ],
          "name": "stdout"
        },
        {
          "output_type": "stream",
          "text": [
            "/usr/local/lib/python3.6/dist-packages/ipykernel_launcher.py:71: SettingWithCopyWarning: \n",
            "A value is trying to be set on a copy of a slice from a DataFrame.\n",
            "Try using .loc[row_indexer,col_indexer] = value instead\n",
            "\n",
            "See the caveats in the documentation: http://pandas.pydata.org/pandas-docs/stable/indexing.html#indexing-view-versus-copy\n"
          ],
          "name": "stderr"
        },
        {
          "output_type": "stream",
          "text": [
            "Ticker BEI has 156454 records.\n",
            "R2 for BEI: -1.2171583411388506e+28\n",
            "MSE for BEI: 9.832126779270132\n",
            "0.02059274249480487\n",
            "1065.2855427546224\n"
          ],
          "name": "stdout"
        },
        {
          "output_type": "stream",
          "text": [
            "/usr/local/lib/python3.6/dist-packages/ipykernel_launcher.py:71: SettingWithCopyWarning: \n",
            "A value is trying to be set on a copy of a slice from a DataFrame.\n",
            "Try using .loc[row_indexer,col_indexer] = value instead\n",
            "\n",
            "See the caveats in the documentation: http://pandas.pydata.org/pandas-docs/stable/indexing.html#indexing-view-versus-copy\n"
          ],
          "name": "stderr"
        },
        {
          "output_type": "stream",
          "text": [
            "Ticker TEG has 156455 records.\n",
            "R2 for TEG: -2.4981687937848623e+28\n",
            "MSE for TEG: 1.2612529254784062\n",
            "0.0026335216998882873\n",
            "1066.5467956801008\n"
          ],
          "name": "stdout"
        },
        {
          "output_type": "stream",
          "text": [
            "/usr/local/lib/python3.6/dist-packages/ipykernel_launcher.py:71: SettingWithCopyWarning: \n",
            "A value is trying to be set on a copy of a slice from a DataFrame.\n",
            "Try using .loc[row_indexer,col_indexer] = value instead\n",
            "\n",
            "See the caveats in the documentation: http://pandas.pydata.org/pandas-docs/stable/indexing.html#indexing-view-versus-copy\n"
          ],
          "name": "stderr"
        },
        {
          "output_type": "stream",
          "text": [
            "Ticker AOX has 156455 records.\n",
            "R2 for AOX: 0.0\n",
            "MSE for AOX: 0.030186879196275083\n",
            "6.234102732605928e-05\n",
            "1066.576982559297\n"
          ],
          "name": "stdout"
        },
        {
          "output_type": "stream",
          "text": [
            "/usr/local/lib/python3.6/dist-packages/ipykernel_launcher.py:71: SettingWithCopyWarning: \n",
            "A value is trying to be set on a copy of a slice from a DataFrame.\n",
            "Try using .loc[row_indexer,col_indexer] = value instead\n",
            "\n",
            "See the caveats in the documentation: http://pandas.pydata.org/pandas-docs/stable/indexing.html#indexing-view-versus-copy\n"
          ],
          "name": "stderr"
        },
        {
          "output_type": "stream",
          "text": [
            "Ticker UTDI has 156457 records.\n",
            "R2 for UTDI: -2.8703242034257096e+28\n",
            "MSE for UTDI: 1.4491433916109984\n",
            "0.002861524126337111\n",
            "1068.026125950908\n"
          ],
          "name": "stdout"
        },
        {
          "output_type": "stream",
          "text": [
            "/usr/local/lib/python3.6/dist-packages/ipykernel_launcher.py:71: SettingWithCopyWarning: \n",
            "A value is trying to be set on a copy of a slice from a DataFrame.\n",
            "Try using .loc[row_indexer,col_indexer] = value instead\n",
            "\n",
            "See the caveats in the documentation: http://pandas.pydata.org/pandas-docs/stable/indexing.html#indexing-view-versus-copy\n"
          ],
          "name": "stderr"
        },
        {
          "output_type": "stream",
          "text": [
            "Ticker ARL has 156455 records.\n",
            "R2 for ARL: 0.0\n",
            "MSE for ARL: 0.005851309275564833\n",
            "1.1213256797297395e-05\n",
            "1068.0319772601836\n"
          ],
          "name": "stdout"
        },
        {
          "output_type": "stream",
          "text": [
            "/usr/local/lib/python3.6/dist-packages/ipykernel_launcher.py:71: SettingWithCopyWarning: \n",
            "A value is trying to be set on a copy of a slice from a DataFrame.\n",
            "Try using .loc[row_indexer,col_indexer] = value instead\n",
            "\n",
            "See the caveats in the documentation: http://pandas.pydata.org/pandas-docs/stable/indexing.html#indexing-view-versus-copy\n"
          ],
          "name": "stderr"
        },
        {
          "output_type": "stream",
          "text": [
            "Ticker MDG1 has 156456 records.\n",
            "R2 for MDG1: -2.688984802154834e+28\n",
            "MSE for MDG1: 0.763644594655226\n",
            "0.0014283533081872889\n",
            "1068.7956218548388\n"
          ],
          "name": "stdout"
        },
        {
          "output_type": "stream",
          "text": [
            "/usr/local/lib/python3.6/dist-packages/ipykernel_launcher.py:71: SettingWithCopyWarning: \n",
            "A value is trying to be set on a copy of a slice from a DataFrame.\n",
            "Try using .loc[row_indexer,col_indexer] = value instead\n",
            "\n",
            "See the caveats in the documentation: http://pandas.pydata.org/pandas-docs/stable/indexing.html#indexing-view-versus-copy\n"
          ],
          "name": "stderr"
        },
        {
          "output_type": "stream",
          "text": [
            "Ticker SANT has 156454 records.\n",
            "R2 for SANT: -3.2633954026269956e+28\n",
            "MSE for SANT: 1.6475936329026688\n",
            "0.0030720745190983842\n",
            "1070.4432154877416\n"
          ],
          "name": "stdout"
        },
        {
          "output_type": "stream",
          "text": [
            "/usr/local/lib/python3.6/dist-packages/ipykernel_launcher.py:71: SettingWithCopyWarning: \n",
            "A value is trying to be set on a copy of a slice from a DataFrame.\n",
            "Try using .loc[row_indexer,col_indexer] = value instead\n",
            "\n",
            "See the caveats in the documentation: http://pandas.pydata.org/pandas-docs/stable/indexing.html#indexing-view-versus-copy\n"
          ],
          "name": "stderr"
        },
        {
          "output_type": "stream",
          "text": [
            "Ticker LXS has 156457 records.\n",
            "R2 for LXS: -4.526381533903399e+28\n",
            "MSE for LXS: 9.140954711579411\n",
            "0.016897534166358037\n",
            "1079.5841701993209\n"
          ],
          "name": "stdout"
        },
        {
          "output_type": "stream",
          "text": [
            "/usr/local/lib/python3.6/dist-packages/ipykernel_launcher.py:71: SettingWithCopyWarning: \n",
            "A value is trying to be set on a copy of a slice from a DataFrame.\n",
            "Try using .loc[row_indexer,col_indexer] = value instead\n",
            "\n",
            "See the caveats in the documentation: http://pandas.pydata.org/pandas-docs/stable/indexing.html#indexing-view-versus-copy\n"
          ],
          "name": "stderr"
        },
        {
          "output_type": "stream",
          "text": [
            "Ticker KGX has 156456 records.\n",
            "R2 for KGX: 0.0\n",
            "MSE for KGX: 2.5608438101685396\n",
            "0.004669403568432153\n",
            "1082.1450140094894\n"
          ],
          "name": "stdout"
        },
        {
          "output_type": "stream",
          "text": [
            "/usr/local/lib/python3.6/dist-packages/ipykernel_launcher.py:71: SettingWithCopyWarning: \n",
            "A value is trying to be set on a copy of a slice from a DataFrame.\n",
            "Try using .loc[row_indexer,col_indexer] = value instead\n",
            "\n",
            "See the caveats in the documentation: http://pandas.pydata.org/pandas-docs/stable/indexing.html#indexing-view-versus-copy\n"
          ],
          "name": "stderr"
        },
        {
          "output_type": "stream",
          "text": [
            "Ticker TTI has 156456 records.\n",
            "R2 for TTI: 0.0\n",
            "MSE for TTI: 1.610698455552558\n",
            "0.0028620307786038886\n",
            "1083.755712465042\n"
          ],
          "name": "stdout"
        },
        {
          "output_type": "stream",
          "text": [
            "/usr/local/lib/python3.6/dist-packages/ipykernel_launcher.py:71: SettingWithCopyWarning: \n",
            "A value is trying to be set on a copy of a slice from a DataFrame.\n",
            "Try using .loc[row_indexer,col_indexer] = value instead\n",
            "\n",
            "See the caveats in the documentation: http://pandas.pydata.org/pandas-docs/stable/indexing.html#indexing-view-versus-copy\n"
          ],
          "name": "stderr"
        },
        {
          "output_type": "stream",
          "text": [
            "Ticker LINU has 128173 records.\n",
            "R2 for LINU: 0.0\n",
            "MSE for LINU: 11.219967318820142\n",
            "0.019173046164839194\n",
            "1094.9756797838622\n"
          ],
          "name": "stdout"
        },
        {
          "output_type": "stream",
          "text": [
            "/usr/local/lib/python3.6/dist-packages/ipykernel_launcher.py:71: SettingWithCopyWarning: \n",
            "A value is trying to be set on a copy of a slice from a DataFrame.\n",
            "Try using .loc[row_indexer,col_indexer] = value instead\n",
            "\n",
            "See the caveats in the documentation: http://pandas.pydata.org/pandas-docs/stable/indexing.html#indexing-view-versus-copy\n"
          ],
          "name": "stderr"
        },
        {
          "output_type": "stream",
          "text": [
            "Ticker GYC has 156456 records.\n",
            "R2 for GYC: 0.0\n"
          ],
          "name": "stdout"
        },
        {
          "output_type": "stream",
          "text": [
            "/usr/local/lib/python3.6/dist-packages/ipykernel_launcher.py:71: SettingWithCopyWarning: \n",
            "A value is trying to be set on a copy of a slice from a DataFrame.\n",
            "Try using .loc[row_indexer,col_indexer] = value instead\n",
            "\n",
            "See the caveats in the documentation: http://pandas.pydata.org/pandas-docs/stable/indexing.html#indexing-view-versus-copy\n"
          ],
          "name": "stderr"
        },
        {
          "output_type": "stream",
          "text": [
            "MSE for GYC: 0.369045805822994\n",
            "0.0006248080373309702\n",
            "1095.3447255896851\n",
            "Ticker ARO has 156419 records.\n",
            "R2 for ARO: 0.0\n"
          ],
          "name": "stdout"
        },
        {
          "output_type": "stream",
          "text": [
            "/usr/local/lib/python3.6/dist-packages/ipykernel_launcher.py:71: SettingWithCopyWarning: \n",
            "A value is trying to be set on a copy of a slice from a DataFrame.\n",
            "Try using .loc[row_indexer,col_indexer] = value instead\n",
            "\n",
            "See the caveats in the documentation: http://pandas.pydata.org/pandas-docs/stable/indexing.html#indexing-view-versus-copy\n"
          ],
          "name": "stderr"
        },
        {
          "output_type": "stream",
          "text": [
            "MSE for ARO: 5.516971496758169e-07\n",
            "9.326948252835053e-10\n",
            "1095.3447261413824\n",
            "Ticker SOW has 156453 records.\n",
            "R2 for SOW: -1.3069215929541904e+29\n",
            "MSE for SOW: 6.598267845572668\n",
            "0.010661969135276195\n",
            "1101.9429939869551\n"
          ],
          "name": "stdout"
        },
        {
          "output_type": "stream",
          "text": [
            "/usr/local/lib/python3.6/dist-packages/ipykernel_launcher.py:71: SettingWithCopyWarning: \n",
            "A value is trying to be set on a copy of a slice from a DataFrame.\n",
            "Try using .loc[row_indexer,col_indexer] = value instead\n",
            "\n",
            "See the caveats in the documentation: http://pandas.pydata.org/pandas-docs/stable/indexing.html#indexing-view-versus-copy\n"
          ],
          "name": "stderr"
        },
        {
          "output_type": "stream",
          "text": [
            "Ticker ANO has 156439 records.\n",
            "R2 for ANO: -2.1707998660807525e+30\n",
            "MSE for ANO: 0.00041808084653567227\n",
            "6.69203121730402e-07\n"
          ],
          "name": "stdout"
        },
        {
          "output_type": "stream",
          "text": [
            "/usr/local/lib/python3.6/dist-packages/ipykernel_launcher.py:71: SettingWithCopyWarning: \n",
            "A value is trying to be set on a copy of a slice from a DataFrame.\n",
            "Try using .loc[row_indexer,col_indexer] = value instead\n",
            "\n",
            "See the caveats in the documentation: http://pandas.pydata.org/pandas-docs/stable/indexing.html#indexing-view-versus-copy\n"
          ],
          "name": "stderr"
        },
        {
          "output_type": "stream",
          "text": [
            "1101.9434120678015\n",
            "Ticker SZG has 156456 records.\n",
            "R2 for SZG: -3.1257942781575965e+26\n"
          ],
          "name": "stdout"
        },
        {
          "output_type": "stream",
          "text": [
            "/usr/local/lib/python3.6/dist-packages/ipykernel_launcher.py:71: SettingWithCopyWarning: \n",
            "A value is trying to be set on a copy of a slice from a DataFrame.\n",
            "Try using .loc[row_indexer,col_indexer] = value instead\n",
            "\n",
            "See the caveats in the documentation: http://pandas.pydata.org/pandas-docs/stable/indexing.html#indexing-view-versus-copy\n"
          ],
          "name": "stderr"
        },
        {
          "output_type": "stream",
          "text": [
            "MSE for SZG: 0.06312491273733276\n",
            "9.861312128676848e-05\n",
            "1102.0065369805388\n",
            "Ticker BOSS has 156457 records.\n",
            "R2 for BOSS: 0.0\n",
            "MSE for BOSS: 0.07482673214865887\n",
            "0.00011675448165202321\n",
            "1102.0813637126876\n"
          ],
          "name": "stdout"
        },
        {
          "output_type": "stream",
          "text": [
            "/usr/local/lib/python3.6/dist-packages/ipykernel_launcher.py:71: SettingWithCopyWarning: \n",
            "A value is trying to be set on a copy of a slice from a DataFrame.\n",
            "Try using .loc[row_indexer,col_indexer] = value instead\n",
            "\n",
            "See the caveats in the documentation: http://pandas.pydata.org/pandas-docs/stable/indexing.html#indexing-view-versus-copy\n"
          ],
          "name": "stderr"
        },
        {
          "output_type": "stream",
          "text": [
            "Ticker BNR has 156457 records.\n",
            "R2 for BNR: -4.539458274745264e+28\n",
            "MSE for BNR: 2.2918407448502793\n",
            "0.0035685867403600457\n",
            "1104.373204457538\n"
          ],
          "name": "stdout"
        },
        {
          "output_type": "stream",
          "text": [
            "/usr/local/lib/python3.6/dist-packages/ipykernel_launcher.py:71: SettingWithCopyWarning: \n",
            "A value is trying to be set on a copy of a slice from a DataFrame.\n",
            "Try using .loc[row_indexer,col_indexer] = value instead\n",
            "\n",
            "See the caveats in the documentation: http://pandas.pydata.org/pandas-docs/stable/indexing.html#indexing-view-versus-copy\n"
          ],
          "name": "stderr"
        },
        {
          "output_type": "stream",
          "text": [
            "Ticker LLD has 156387 records.\n",
            "R2 for LLD: -1.7291979508178477e+28\n"
          ],
          "name": "stdout"
        },
        {
          "output_type": "stream",
          "text": [
            "/usr/local/lib/python3.6/dist-packages/ipykernel_launcher.py:71: SettingWithCopyWarning: \n",
            "A value is trying to be set on a copy of a slice from a DataFrame.\n",
            "Try using .loc[row_indexer,col_indexer] = value instead\n",
            "\n",
            "See the caveats in the documentation: http://pandas.pydata.org/pandas-docs/stable/indexing.html#indexing-view-versus-copy\n"
          ],
          "name": "stderr"
        },
        {
          "output_type": "stream",
          "text": [
            "MSE for LLD: 0.00021314010324820093\n",
            "3.1705360311089143e-07\n",
            "1104.373417597641\n",
            "Ticker WAF has 156457 records.\n",
            "R2 for WAF: 0.0\n"
          ],
          "name": "stdout"
        },
        {
          "output_type": "stream",
          "text": [
            "/usr/local/lib/python3.6/dist-packages/ipykernel_launcher.py:71: SettingWithCopyWarning: \n",
            "A value is trying to be set on a copy of a slice from a DataFrame.\n",
            "Try using .loc[row_indexer,col_indexer] = value instead\n",
            "\n",
            "See the caveats in the documentation: http://pandas.pydata.org/pandas-docs/stable/indexing.html#indexing-view-versus-copy\n"
          ],
          "name": "stderr"
        },
        {
          "output_type": "stream",
          "text": [
            "MSE for WAF: 2.175723576095324\n",
            "0.0031612500990560377\n",
            "1106.5491411737364\n",
            "Ticker DRI has 156456 records.\n",
            "R2 for DRI: -1.8423717422704908e+29\n",
            "MSE for DRI: 9.301600258311117\n",
            "0.013189494197866934\n",
            "1115.8507414320475\n"
          ],
          "name": "stdout"
        },
        {
          "output_type": "stream",
          "text": [
            "/usr/local/lib/python3.6/dist-packages/ipykernel_launcher.py:71: SettingWithCopyWarning: \n",
            "A value is trying to be set on a copy of a slice from a DataFrame.\n",
            "Try using .loc[row_indexer,col_indexer] = value instead\n",
            "\n",
            "See the caveats in the documentation: http://pandas.pydata.org/pandas-docs/stable/indexing.html#indexing-view-versus-copy\n"
          ],
          "name": "stderr"
        },
        {
          "output_type": "stream",
          "text": [
            "Ticker NDA has 156457 records.\n",
            "R2 for NDA: 0.0\n",
            "MSE for NDA: 0.26818083354187483\n",
            "0.00037463381098875947\n",
            "1116.1189222655894\n"
          ],
          "name": "stdout"
        },
        {
          "output_type": "stream",
          "text": [
            "/usr/local/lib/python3.6/dist-packages/ipykernel_launcher.py:71: SettingWithCopyWarning: \n",
            "A value is trying to be set on a copy of a slice from a DataFrame.\n",
            "Try using .loc[row_indexer,col_indexer] = value instead\n",
            "\n",
            "See the caveats in the documentation: http://pandas.pydata.org/pandas-docs/stable/indexing.html#indexing-view-versus-copy\n"
          ],
          "name": "stderr"
        },
        {
          "output_type": "stream",
          "text": [
            "Ticker SY1 has 156455 records.\n",
            "R2 for SY1: -2.0051772983621294e+28\n",
            "MSE for SY1: 4.049423305509305\n",
            "0.0056160871649075985\n",
            "1120.1683455710986\n"
          ],
          "name": "stdout"
        },
        {
          "output_type": "stream",
          "text": [
            "/usr/local/lib/python3.6/dist-packages/ipykernel_launcher.py:71: SettingWithCopyWarning: \n",
            "A value is trying to be set on a copy of a slice from a DataFrame.\n",
            "Try using .loc[row_indexer,col_indexer] = value instead\n",
            "\n",
            "See the caveats in the documentation: http://pandas.pydata.org/pandas-docs/stable/indexing.html#indexing-view-versus-copy\n"
          ],
          "name": "stderr"
        },
        {
          "output_type": "stream",
          "text": [
            "Ticker LIN has 156457 records.\n",
            "R2 for LIN: -4.146717121975981e+27\n",
            "MSE for LIN: 3.3496914150783397\n",
            "0.004633284923970138\n",
            "1123.5180369861769\n"
          ],
          "name": "stdout"
        },
        {
          "output_type": "stream",
          "text": [
            "/usr/local/lib/python3.6/dist-packages/ipykernel_launcher.py:71: SettingWithCopyWarning: \n",
            "A value is trying to be set on a copy of a slice from a DataFrame.\n",
            "Try using .loc[row_indexer,col_indexer] = value instead\n",
            "\n",
            "See the caveats in the documentation: http://pandas.pydata.org/pandas-docs/stable/indexing.html#indexing-view-versus-copy\n"
          ],
          "name": "stderr"
        },
        {
          "output_type": "stream",
          "text": [
            "Ticker ZIL2 has 156433 records.\n",
            "R2 for ZIL2: 0.0\n",
            "MSE for ZIL2: 4.765460697766053\n",
            "0.006573863551639632\n",
            "1128.2834976839429\n"
          ],
          "name": "stdout"
        },
        {
          "output_type": "stream",
          "text": [
            "/usr/local/lib/python3.6/dist-packages/ipykernel_launcher.py:71: SettingWithCopyWarning: \n",
            "A value is trying to be set on a copy of a slice from a DataFrame.\n",
            "Try using .loc[row_indexer,col_indexer] = value instead\n",
            "\n",
            "See the caveats in the documentation: http://pandas.pydata.org/pandas-docs/stable/indexing.html#indexing-view-versus-copy\n"
          ],
          "name": "stderr"
        },
        {
          "output_type": "stream",
          "text": [
            "Ticker CAP has 156447 records.\n",
            "R2 for CAP: 0.0\n",
            "MSE for CAP: 0.033865541632411095\n",
            "4.6182685965833756e-05\n",
            "1128.3173632255753\n"
          ],
          "name": "stdout"
        },
        {
          "output_type": "stream",
          "text": [
            "/usr/local/lib/python3.6/dist-packages/ipykernel_launcher.py:71: SettingWithCopyWarning: \n",
            "A value is trying to be set on a copy of a slice from a DataFrame.\n",
            "Try using .loc[row_indexer,col_indexer] = value instead\n",
            "\n",
            "See the caveats in the documentation: http://pandas.pydata.org/pandas-docs/stable/indexing.html#indexing-view-versus-copy\n"
          ],
          "name": "stderr"
        },
        {
          "output_type": "stream",
          "text": [
            "Ticker 3W9K has 156034 records.\n",
            "R2 for 3W9K: -1.803305660837438e+32\n",
            "MSE for 3W9K: 0.0021706502319311467\n",
            "2.827575029761204e-06\n",
            "1128.319533875807\n",
            "Ran LR in:85.716668\n",
            "Weighted MSE: 6.474657841210102\n",
            "Average MSE: 11.283195338758071\n"
          ],
          "name": "stdout"
        },
        {
          "output_type": "stream",
          "text": [
            "/usr/local/lib/python3.6/dist-packages/ipykernel_launcher.py:71: SettingWithCopyWarning: \n",
            "A value is trying to be set on a copy of a slice from a DataFrame.\n",
            "Try using .loc[row_indexer,col_indexer] = value instead\n",
            "\n",
            "See the caveats in the documentation: http://pandas.pydata.org/pandas-docs/stable/indexing.html#indexing-view-versus-copy\n"
          ],
          "name": "stderr"
        }
      ]
    }
  ]
}